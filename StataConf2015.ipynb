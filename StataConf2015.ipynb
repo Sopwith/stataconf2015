{
 "cells": [
  {
   "cell_type": "code",
   "execution_count": 124,
   "metadata": {
    "collapsed": false
   },
   "outputs": [],
   "source": [
    "from ipynb_style import clean, presentation, pres2"
   ]
  },
  {
   "cell_type": "code",
   "execution_count": 127,
   "metadata": {
    "collapsed": false
   },
   "outputs": [
    {
     "data": {
      "text/html": [
       "\n",
       "<style type=\"text/css\">\n",
       "div.input {\n",
       "width: 105ex; /* about 80 chars + buffer */\n",
       "}\n",
       "\n",
       "div.text_cell {\n",
       "width: 105ex /* instead of 100%, */\n",
       "}\n",
       "\n",
       "div.text_cell_render {\n",
       "/*font-family: \"Helvetica Neue\", Arial, Helvetica, Geneva, sans-serif;*/\n",
       "font-family: \"Charis SIL\", serif; /* Make non-code text serif. */\n",
       "line-height: 145%; /* added for some line spacing of text. */\n",
       "width: 105ex; /* instead of 'inherit' for shorter lines */\n",
       "}\n",
       "\n",
       "/* Set the size of the headers */\n",
       "div.text_cell_render h1 {\n",
       "font-size: 18pt;\n",
       "}\n",
       "\n",
       "div.text_cell_render h2 {\n",
       "font-size: 14pt;\n",
       "}\n",
       "\n",
       ".CodeMirror {\n",
       " font-family: Consolas, monospace;\n",
       " }\n",
       "\n",
       ".rendered_html ol {list-style:decimal; margin: 1em 2em;}\n",
       "\n",
       "</style>\n"
      ],
      "text/plain": [
       "<IPython.core.display.HTML object>"
      ]
     },
     "execution_count": 127,
     "metadata": {},
     "output_type": "execute_result"
    }
   ],
   "source": [
    "clean()\n",
    "#presentation()\n",
    "#pres2()"
   ]
  },
  {
   "cell_type": "markdown",
   "metadata": {
    "slideshow": {
     "slide_type": "slide"
    }
   },
   "source": [
    "# Data Workflows in Stata and Python\n",
    "<img src=\"Stata_Logo.svg\" width=\"300\" height=\"150\" style=\"float: left; display: inline; margin: 10px\">\n",
    "<img src=\"python-logo-generic.svg\" width=\"300\" height=\"150\" style=\"float: left; display: inline; margin: 10px\">"
   ]
  },
  {
   "cell_type": "markdown",
   "metadata": {
    "slideshow": {
     "slide_type": "subslide"
    }
   },
   "source": [
    "# Data Workflows in Stata and Python\n",
    "\n",
    "**Dejan Pavlic**, Education Policy Research Initiative, University of Ottawa\n",
    "\n",
    "**Stephen Childs** (presenter), Office of Institutional Analysis, University of Calgary\n",
    "\n",
    "<img src=\"uc-vert-rgb.png\" width=\"173\" height=\"129\" style=\"float: left; display: inline; margin: 10px\">\n",
    "<img src=\"uottawa_ver_wg9.png\" width=\"152\" height=\"129\" style=\"float: left; display: inline; margin: 25px\">\n",
    "<img src=\"epri_logo.jpg\" width=\"524\" height=\"129\" style=\"float: left; display: inline; margin: 0px\">"
   ]
  },
  {
   "cell_type": "markdown",
   "metadata": {
    "slideshow": {
     "slide_type": "slide"
    }
   },
   "source": [
    "# Introduction"
   ]
  },
  {
   "cell_type": "markdown",
   "metadata": {
    "slideshow": {
     "slide_type": "fragment"
    }
   },
   "source": [
    "## About this talk"
   ]
  },
  {
   "cell_type": "markdown",
   "metadata": {
    "slideshow": {
     "slide_type": "fragment"
    }
   },
   "source": [
    "### Objectives\n",
    "\n",
    "* know what Python is and what advantages it has\n",
    "* know how Python can work with Stata"
   ]
  },
  {
   "cell_type": "markdown",
   "metadata": {
    "slideshow": {
     "slide_type": "subslide"
    }
   },
   "source": [
    "### Outline"
   ]
  },
  {
   "cell_type": "markdown",
   "metadata": {
    "slideshow": {
     "slide_type": "fragment"
    }
   },
   "source": [
    "* Introduction\n",
    "    * Overall\n",
    "    * Motivation\n",
    "    * About Python"
   ]
  },
  {
   "cell_type": "markdown",
   "metadata": {
    "slideshow": {
     "slide_type": "fragment"
    }
   },
   "source": [
    "* Building Blocks\n",
    "    * Pandas\n",
    "    * Running Stata from Python\n",
    "    * Python language features"
   ]
  },
  {
   "cell_type": "markdown",
   "metadata": {
    "slideshow": {
     "slide_type": "subslide"
    }
   },
   "source": [
    "* Workflows\n",
    "    * ETL/Data Cleaning\n",
    "    * Stata code generation\n",
    "    * Processing Stata output"
   ]
  },
  {
   "cell_type": "markdown",
   "metadata": {
    "slideshow": {
     "slide_type": "slide"
    }
   },
   "source": [
    "## About Me\n",
    "\n",
    "* Started using Stata in grad school (2006).\n",
    "* Using Python for about 3 years.\n",
    "* Post-Secondary Education sector (in Canada)\n",
    "    * University of Calgary - [Institutional Analysis](https://oia.ucalgary.ca/Contact)\n",
    "    * [Education Policy Research Initiative](http://socialsciences.uottawa.ca/irpe-epri/eng/index.asp) - University of Ottawa (a Stata shop)"
   ]
  },
  {
   "cell_type": "markdown",
   "metadata": {
    "slideshow": {
     "slide_type": "slide"
    }
   },
   "source": [
    "## Motivation\n",
    "\n",
    "* Python is becoming very popular in the data world.\n",
    "* Python skills are widely applicable.\n",
    "* Python is powerful and flexible and will help you get more done, faster."
   ]
  },
  {
   "cell_type": "markdown",
   "metadata": {
    "slideshow": {
     "slide_type": "slide"
    }
   },
   "source": [
    "## About Python"
   ]
  },
  {
   "cell_type": "markdown",
   "metadata": {
    "slideshow": {
     "slide_type": "fragment"
    }
   },
   "source": [
    "### The Python Language\n",
    "\n",
    "* General purpose programming language\n",
    "* Name comes from Monty Python\n",
    "* Python 2 vs. 3\n",
    "* \"batteries included\""
   ]
  },
  {
   "cell_type": "markdown",
   "metadata": {
    "slideshow": {
     "slide_type": "subslide"
    }
   },
   "source": [
    "### Scientific Python"
   ]
  },
  {
   "cell_type": "markdown",
   "metadata": {
    "slideshow": {
     "slide_type": "fragment"
    }
   },
   "source": [
    "<a href=\"http://pandas.pydata.org\"><img src=\"pandas_logo.png\"></a>"
   ]
  },
  {
   "cell_type": "markdown",
   "metadata": {
    "slideshow": {
     "slide_type": "fragment"
    }
   },
   "source": [
    "<a href=\"http://matplotlib.org/\"><img src=\"matplotlib_logo.png\">"
   ]
  },
  {
   "cell_type": "markdown",
   "metadata": {
    "slideshow": {
     "slide_type": "fragment"
    }
   },
   "source": [
    "<a href=\"http://www.numpy.org\"><img src=\"numpy_logo.png\"></a>"
   ]
  },
  {
   "cell_type": "markdown",
   "metadata": {
    "slideshow": {
     "slide_type": "subslide"
    }
   },
   "source": [
    "\n",
    "<center><h2><a href=\"http://scipy.org\"><img src=\"scipyshiny_small.png\" style=\"display: inline;\"></a>SciPy</h2></center>"
   ]
  },
  {
   "cell_type": "markdown",
   "metadata": {
    "slideshow": {
     "slide_type": "fragment"
    }
   },
   "source": [
    "<a href=\"https://jupyter.org/\"><img src=\"jupyter-sq-text.svg\" height=200 width=200></a>"
   ]
  },
  {
   "cell_type": "markdown",
   "metadata": {
    "slideshow": {
     "slide_type": "fragment"
    }
   },
   "source": [
    "<a href=\"http://continuum.io/downloads\"><img src=\"anaconda_logo_web.png\"></a>"
   ]
  },
  {
   "cell_type": "markdown",
   "metadata": {
    "slideshow": {
     "slide_type": "slide"
    }
   },
   "source": [
    "# Building Blocks"
   ]
  },
  {
   "cell_type": "markdown",
   "metadata": {
    "slideshow": {
     "slide_type": "slide"
    }
   },
   "source": [
    "## Pandas"
   ]
  },
  {
   "cell_type": "markdown",
   "metadata": {
    "slideshow": {
     "slide_type": "fragment"
    }
   },
   "source": [
    "* General introduction\n",
    "    * Origins - NumPy\n",
    "    * Current popularity"
   ]
  },
  {
   "cell_type": "markdown",
   "metadata": {
    "slideshow": {
     "slide_type": "fragment"
    }
   },
   "source": [
    "* Key concepts\n",
    "    * DataFrame\n",
    "    * Series\n",
    "    * index"
   ]
  },
  {
   "cell_type": "code",
   "execution_count": 54,
   "metadata": {
    "collapsed": true,
    "slideshow": {
     "slide_type": "skip"
    }
   },
   "outputs": [],
   "source": [
    "from IPython.display import IFrame"
   ]
  },
  {
   "cell_type": "code",
   "execution_count": 55,
   "metadata": {
    "collapsed": true,
    "slideshow": {
     "slide_type": "slide"
    }
   },
   "outputs": [],
   "source": [
    "import pandas as pd"
   ]
  },
  {
   "cell_type": "code",
   "execution_count": 56,
   "metadata": {
    "collapsed": true,
    "slideshow": {
     "slide_type": "fragment"
    }
   },
   "outputs": [],
   "source": [
    "auto = pd.read_stata('auto.dta')"
   ]
  },
  {
   "cell_type": "code",
   "execution_count": 57,
   "metadata": {
    "collapsed": true,
    "slideshow": {
     "slide_type": "skip"
    }
   },
   "outputs": [],
   "source": [
    "import sys\n",
    "import subprocess as sp\n",
    "from threading import Thread\n",
    "from queue import Queue, Empty\n",
    "\n",
    "class Stpy:\n",
    "    \"\"\"A running instance of Stata as a subprocess.\n",
    "    \n",
    "    An instance of this class can be used to run Stata commands.\n",
    "    The instance holds a persistence Stata process, so the memory\n",
    "    is preserved between commands.\n",
    "\n",
    "    \"\"\"\n",
    "    def __init__(self):\n",
    "        \"\"\"Constructor method for the stpy class.\n",
    "\n",
    "        This starts Stata running on a separate thread, where it waits\n",
    "        until commands are sent to it via the `write` method.\n",
    "\n",
    "        \"\"\"\n",
    "        # Open stata as pipe; make a queue for non-blocking. Start the thread.\n",
    "        self.proc = sp.Popen(['stata-mp'], stdin=sp.PIPE, stdout=sp.PIPE, bufsize=1)\n",
    "\n",
    "        self.qu = Queue()\n",
    "\n",
    "        self.thread = Thread(target = self.enqueue_output, args = (self.proc.stdout,\n",
    "            self.qu))\n",
    "        self.thread.daemon = True\n",
    "        self.thread.start()\n",
    "\n",
    "        # Read the initial stdout content.\n",
    "        self.genout()\n",
    "\n",
    "    def enqueue_output(self, out, queue):\n",
    "        while True:\n",
    "            # Read 1 byte at a time in thread.\n",
    "            self.thread = out.read(1).decode()\n",
    "            queue.put(self.thread)\n",
    "        out.close()\n",
    "\n",
    "    def buffer_output(self, sbuf=[]):\n",
    "        # Try to read byte.\n",
    "        try:  char = self.qu.get(timeout=1)\n",
    "        except Empty:\n",
    "            # Catch 2 x newline, followed by \". \". Stata's done with the output.\n",
    "            if ''.join(sbuf) == \"\\n\\n. \":\n",
    "                return False # Done, Stata passes control back to user.\n",
    "            # Pass if we are not done.\n",
    "            else:\n",
    "                pass # Waiting...\n",
    "        else:\n",
    "            # Keep a small internal rotating buffer which can catch the '\\n\\n. '\n",
    "            # instruction.\n",
    "            if len(sbuf) >= 4:\n",
    "                del sbuf[0]\n",
    "            sbuf.append(char)\n",
    "            return(char)\n",
    "\n",
    "    def genout(self):\n",
    "        \"\"\"Read the content of stdout.\"\"\"\n",
    "        ch = self.buffer_output()\n",
    "        while ch:\n",
    "            print(ch, end='')\n",
    "            ch = self.buffer_output()\n",
    "\n",
    "    def write(self, command):\n",
    "        \"\"\"Pass a stata command to the running Stata instance.\n",
    "        \n",
    "        Call this method with a string that you wish to pass to Stata.\n",
    "        The method adds a newline to the end, then passes it to Stata.\n",
    "        The output from Stata is returned via the standard output.\n",
    "        \"\"\"\n",
    "        # Write command in bytes plus newline then flush.\n",
    "        self.proc.stdin.write(bytes(command + \"\\n\", 'ascii'))\n",
    "        self.proc.stdin.flush()\n",
    "\n",
    "        self.genout()"
   ]
  },
  {
   "cell_type": "code",
   "execution_count": 58,
   "metadata": {
    "collapsed": false,
    "slideshow": {
     "slide_type": "skip"
    }
   },
   "outputs": [
    {
     "name": "stdout",
     "output_type": "stream",
     "text": [
      "\n",
      "  ___  ____  ____  ____  ____ (R)\n",
      " /__    /   ____/   /   ____/\n",
      "___/   /   /___/   /   /___/   13.1   Copyright 1985-2013 StataCorp LP\n",
      "  Statistics/Data Analysis            StataCorp\n",
      "                                      4905 Lakeway Drive\n",
      "     MP - Parallel Edition            College Station, Texas 77845 USA\n",
      "                                      800-STATA-PC        http://www.stata.com\n",
      "                                      979-696-4600        stata@stata.com\n",
      "                                      979-696-4601 (fax)\n",
      "\n",
      "2-user 2-core Stata network perpetual license:\n",
      "       Serial number:  501306211345\n",
      "         Licensed to:  Stephen Childs\n",
      "                       Education Policy Research Initiative\n",
      "\n",
      "Notes:\n",
      "      1.  (-v# option or -set maxvar-) 5000 maximum variables\n",
      "      2.  Command line editing disabled\n",
      "      3.  Stata running in batch mode\n",
      "\n",
      "running /Users/sechilds/Library/Application Support/Stata/profile.do ...\n",
      "\n",
      ". "
     ]
    }
   ],
   "source": [
    "demo = Stpy()"
   ]
  },
  {
   "cell_type": "code",
   "execution_count": 59,
   "metadata": {
    "collapsed": false,
    "slideshow": {
     "slide_type": "skip"
    }
   },
   "outputs": [
    {
     "name": "stdout",
     "output_type": "stream",
     "text": [
      "sysuse auto\n",
      "(1978 Automobile Data)\n",
      "\n",
      ". "
     ]
    }
   ],
   "source": [
    "demo.write('sysuse auto')"
   ]
  },
  {
   "cell_type": "code",
   "execution_count": 60,
   "metadata": {
    "collapsed": false,
    "slideshow": {
     "slide_type": "slide"
    }
   },
   "outputs": [
    {
     "name": "stdout",
     "output_type": "stream",
     "text": [
      "describe\n",
      "\n",
      "Contains data from /Applications/Stata/ado/base/a/auto.dta\n",
      "  obs:            74                          1978 Automobile Data\n",
      " vars:            12                          13 Apr 2013 17:45\n",
      " size:         3,182                          (_dta has notes)\n",
      "-------------------------------------------------------------------------------\n",
      "              storage   display    value\n",
      "variable name   type    format     label      variable label\n",
      "-------------------------------------------------------------------------------\n",
      "make            str18   %-18s                 Make and Model\n",
      "price           int     %8.0gc                Price\n",
      "mpg             int     %8.0g                 Mileage (mpg)\n",
      "rep78           int     %8.0g                 Repair Record 1978\n",
      "headroom        float   %6.1f                 Headroom (in.)\n",
      "trunk           int     %8.0g                 Trunk space (cu. ft.)\n",
      "weight          int     %8.0gc                Weight (lbs.)\n",
      "length          int     %8.0g                 Length (in.)\n",
      "turn            int     %8.0g                 Turn Circle (ft.)\n",
      "displacement    int     %8.0g                 Displacement (cu. in.)\n",
      "gear_ratio      float   %6.2f                 Gear Ratio\n",
      "foreign         byte    %8.0g      origin     Car type\n",
      "-------------------------------------------------------------------------------\n",
      "Sorted by:  foreign\n",
      "\n",
      ". "
     ]
    }
   ],
   "source": [
    "demo.write('describe')"
   ]
  },
  {
   "cell_type": "code",
   "execution_count": 61,
   "metadata": {
    "collapsed": false,
    "slideshow": {
     "slide_type": "subslide"
    }
   },
   "outputs": [
    {
     "data": {
      "text/plain": [
       "(74, 12)"
      ]
     },
     "execution_count": 61,
     "metadata": {},
     "output_type": "execute_result"
    }
   ],
   "source": [
    "auto.shape"
   ]
  },
  {
   "cell_type": "code",
   "execution_count": 62,
   "metadata": {
    "collapsed": false,
    "slideshow": {
     "slide_type": "fragment"
    }
   },
   "outputs": [
    {
     "data": {
      "text/plain": [
       "make              object\n",
       "price              int16\n",
       "mpg                int16\n",
       "rep78            float64\n",
       "headroom         float32\n",
       "trunk              int16\n",
       "weight             int16\n",
       "length             int16\n",
       "turn               int16\n",
       "displacement       int16\n",
       "gear_ratio       float32\n",
       "foreign         category\n",
       "dtype: object"
      ]
     },
     "execution_count": 62,
     "metadata": {},
     "output_type": "execute_result"
    }
   ],
   "source": [
    "auto.dtypes"
   ]
  },
  {
   "cell_type": "code",
   "execution_count": 63,
   "metadata": {
    "collapsed": false,
    "slideshow": {
     "slide_type": "slide"
    }
   },
   "outputs": [
    {
     "name": "stdout",
     "output_type": "stream",
     "text": [
      "summarize\n",
      "\n",
      "    Variable |       Obs        Mean    Std. Dev.       Min        Max\n",
      "-------------+--------------------------------------------------------\n",
      "        make |         0\n",
      "       price |        74    6165.257    2949.496       3291      15906\n",
      "         mpg |        74     21.2973    5.785503         12         41\n",
      "       rep78 |        69    3.405797    .9899323          1          5\n",
      "    headroom |        74    2.993243    .8459948        1.5          5\n",
      "-------------+--------------------------------------------------------\n",
      "       trunk |        74    13.75676    4.277404          5         23\n",
      "      weight |        74    3019.459    777.1936       1760       4840\n",
      "      length |        74    187.9324    22.26634        142        233\n",
      "        turn |        74    39.64865    4.399354         31         51\n",
      "displacement |        74    197.2973    91.83722         79        425\n",
      "-------------+--------------------------------------------------------\n",
      "  gear_ratio |        74    3.014865    .4562871       2.19       3.89\n",
      "     foreign |        74    .2972973    .4601885          0          1\n",
      "\n",
      ". "
     ]
    }
   ],
   "source": [
    "demo.write('summarize')"
   ]
  },
  {
   "cell_type": "code",
   "execution_count": 64,
   "metadata": {
    "collapsed": false,
    "slideshow": {
     "slide_type": "subslide"
    }
   },
   "outputs": [
    {
     "data": {
      "text/html": [
       "<div style=\"max-height:1000px;max-width:1500px;overflow:auto;\">\n",
       "<table border=\"1\" class=\"dataframe\">\n",
       "  <thead>\n",
       "    <tr style=\"text-align: right;\">\n",
       "      <th></th>\n",
       "      <th>count</th>\n",
       "      <th>mean</th>\n",
       "      <th>std</th>\n",
       "      <th>min</th>\n",
       "      <th>25%</th>\n",
       "      <th>50%</th>\n",
       "      <th>75%</th>\n",
       "      <th>max</th>\n",
       "    </tr>\n",
       "  </thead>\n",
       "  <tbody>\n",
       "    <tr>\n",
       "      <th>price</th>\n",
       "      <td>74</td>\n",
       "      <td>6165.256757</td>\n",
       "      <td>2949.495885</td>\n",
       "      <td>3291.00</td>\n",
       "      <td>4220.25</td>\n",
       "      <td>5006.500</td>\n",
       "      <td>6332.2500</td>\n",
       "      <td>15906.00</td>\n",
       "    </tr>\n",
       "    <tr>\n",
       "      <th>mpg</th>\n",
       "      <td>74</td>\n",
       "      <td>21.297297</td>\n",
       "      <td>5.785503</td>\n",
       "      <td>12.00</td>\n",
       "      <td>18.00</td>\n",
       "      <td>20.000</td>\n",
       "      <td>24.7500</td>\n",
       "      <td>41.00</td>\n",
       "    </tr>\n",
       "    <tr>\n",
       "      <th>rep78</th>\n",
       "      <td>69</td>\n",
       "      <td>3.405797</td>\n",
       "      <td>0.989932</td>\n",
       "      <td>1.00</td>\n",
       "      <td>3.00</td>\n",
       "      <td>3.000</td>\n",
       "      <td>4.0000</td>\n",
       "      <td>5.00</td>\n",
       "    </tr>\n",
       "    <tr>\n",
       "      <th>headroom</th>\n",
       "      <td>74</td>\n",
       "      <td>2.993243</td>\n",
       "      <td>0.845995</td>\n",
       "      <td>1.50</td>\n",
       "      <td>2.50</td>\n",
       "      <td>3.000</td>\n",
       "      <td>3.5000</td>\n",
       "      <td>5.00</td>\n",
       "    </tr>\n",
       "    <tr>\n",
       "      <th>trunk</th>\n",
       "      <td>74</td>\n",
       "      <td>13.756757</td>\n",
       "      <td>4.277404</td>\n",
       "      <td>5.00</td>\n",
       "      <td>10.25</td>\n",
       "      <td>14.000</td>\n",
       "      <td>16.7500</td>\n",
       "      <td>23.00</td>\n",
       "    </tr>\n",
       "    <tr>\n",
       "      <th>weight</th>\n",
       "      <td>74</td>\n",
       "      <td>3019.459459</td>\n",
       "      <td>777.193567</td>\n",
       "      <td>1760.00</td>\n",
       "      <td>2250.00</td>\n",
       "      <td>3190.000</td>\n",
       "      <td>3600.0000</td>\n",
       "      <td>4840.00</td>\n",
       "    </tr>\n",
       "    <tr>\n",
       "      <th>length</th>\n",
       "      <td>74</td>\n",
       "      <td>187.932432</td>\n",
       "      <td>22.266340</td>\n",
       "      <td>142.00</td>\n",
       "      <td>170.00</td>\n",
       "      <td>192.500</td>\n",
       "      <td>203.7500</td>\n",
       "      <td>233.00</td>\n",
       "    </tr>\n",
       "    <tr>\n",
       "      <th>turn</th>\n",
       "      <td>74</td>\n",
       "      <td>39.648649</td>\n",
       "      <td>4.399354</td>\n",
       "      <td>31.00</td>\n",
       "      <td>36.00</td>\n",
       "      <td>40.000</td>\n",
       "      <td>43.0000</td>\n",
       "      <td>51.00</td>\n",
       "    </tr>\n",
       "    <tr>\n",
       "      <th>displacement</th>\n",
       "      <td>74</td>\n",
       "      <td>197.297297</td>\n",
       "      <td>91.837219</td>\n",
       "      <td>79.00</td>\n",
       "      <td>119.00</td>\n",
       "      <td>196.000</td>\n",
       "      <td>245.2500</td>\n",
       "      <td>425.00</td>\n",
       "    </tr>\n",
       "    <tr>\n",
       "      <th>gear_ratio</th>\n",
       "      <td>74</td>\n",
       "      <td>3.014865</td>\n",
       "      <td>0.456287</td>\n",
       "      <td>2.19</td>\n",
       "      <td>2.73</td>\n",
       "      <td>2.955</td>\n",
       "      <td>3.3525</td>\n",
       "      <td>3.89</td>\n",
       "    </tr>\n",
       "  </tbody>\n",
       "</table>\n",
       "</div>"
      ],
      "text/plain": [
       "              count         mean          std      min      25%       50%  \\\n",
       "price            74  6165.256757  2949.495885  3291.00  4220.25  5006.500   \n",
       "mpg              74    21.297297     5.785503    12.00    18.00    20.000   \n",
       "rep78            69     3.405797     0.989932     1.00     3.00     3.000   \n",
       "headroom         74     2.993243     0.845995     1.50     2.50     3.000   \n",
       "trunk            74    13.756757     4.277404     5.00    10.25    14.000   \n",
       "weight           74  3019.459459   777.193567  1760.00  2250.00  3190.000   \n",
       "length           74   187.932432    22.266340   142.00   170.00   192.500   \n",
       "turn             74    39.648649     4.399354    31.00    36.00    40.000   \n",
       "displacement     74   197.297297    91.837219    79.00   119.00   196.000   \n",
       "gear_ratio       74     3.014865     0.456287     2.19     2.73     2.955   \n",
       "\n",
       "                    75%       max  \n",
       "price         6332.2500  15906.00  \n",
       "mpg             24.7500     41.00  \n",
       "rep78            4.0000      5.00  \n",
       "headroom         3.5000      5.00  \n",
       "trunk           16.7500     23.00  \n",
       "weight        3600.0000   4840.00  \n",
       "length         203.7500    233.00  \n",
       "turn            43.0000     51.00  \n",
       "displacement   245.2500    425.00  \n",
       "gear_ratio       3.3525      3.89  "
      ]
     },
     "execution_count": 64,
     "metadata": {},
     "output_type": "execute_result"
    }
   ],
   "source": [
    "auto.describe().T"
   ]
  },
  {
   "cell_type": "code",
   "execution_count": 65,
   "metadata": {
    "collapsed": false,
    "slideshow": {
     "slide_type": "slide"
    }
   },
   "outputs": [
    {
     "name": "stdout",
     "output_type": "stream",
     "text": [
      "list make price mpg rep78 foreign in 1/5\n",
      "\n",
      "     +------------------------------------------------+\n",
      "     | make            price   mpg   rep78    foreign |\n",
      "     |------------------------------------------------|\n",
      "  1. | AMC Concord     4,099    22       3   Domestic |\n",
      "  2. | AMC Pacer       4,749    17       3   Domestic |\n",
      "  3. | AMC Spirit      3,799    22       .   Domestic |\n",
      "  4. | Buick Century   4,816    20       3   Domestic |\n",
      "  5. | Buick Electra   7,827    15       4   Domestic |\n",
      "     +------------------------------------------------+\n",
      "\n",
      ". "
     ]
    }
   ],
   "source": [
    "demo.write('list make price mpg rep78 foreign in 1/5')"
   ]
  },
  {
   "cell_type": "code",
   "execution_count": 66,
   "metadata": {
    "collapsed": false,
    "slideshow": {
     "slide_type": "subslide"
    }
   },
   "outputs": [
    {
     "data": {
      "text/html": [
       "<div style=\"max-height:1000px;max-width:1500px;overflow:auto;\">\n",
       "<table border=\"1\" class=\"dataframe\">\n",
       "  <thead>\n",
       "    <tr style=\"text-align: right;\">\n",
       "      <th></th>\n",
       "      <th>make</th>\n",
       "      <th>price</th>\n",
       "      <th>mpg</th>\n",
       "      <th>rep78</th>\n",
       "      <th>foreign</th>\n",
       "    </tr>\n",
       "  </thead>\n",
       "  <tbody>\n",
       "    <tr>\n",
       "      <th>0</th>\n",
       "      <td>AMC Concord</td>\n",
       "      <td>4099</td>\n",
       "      <td>22</td>\n",
       "      <td>3</td>\n",
       "      <td>Domestic</td>\n",
       "    </tr>\n",
       "    <tr>\n",
       "      <th>1</th>\n",
       "      <td>AMC Pacer</td>\n",
       "      <td>4749</td>\n",
       "      <td>17</td>\n",
       "      <td>3</td>\n",
       "      <td>Domestic</td>\n",
       "    </tr>\n",
       "    <tr>\n",
       "      <th>2</th>\n",
       "      <td>AMC Spirit</td>\n",
       "      <td>3799</td>\n",
       "      <td>22</td>\n",
       "      <td>NaN</td>\n",
       "      <td>Domestic</td>\n",
       "    </tr>\n",
       "    <tr>\n",
       "      <th>3</th>\n",
       "      <td>Buick Century</td>\n",
       "      <td>4816</td>\n",
       "      <td>20</td>\n",
       "      <td>3</td>\n",
       "      <td>Domestic</td>\n",
       "    </tr>\n",
       "    <tr>\n",
       "      <th>4</th>\n",
       "      <td>Buick Electra</td>\n",
       "      <td>7827</td>\n",
       "      <td>15</td>\n",
       "      <td>4</td>\n",
       "      <td>Domestic</td>\n",
       "    </tr>\n",
       "  </tbody>\n",
       "</table>\n",
       "</div>"
      ],
      "text/plain": [
       "            make  price  mpg  rep78   foreign\n",
       "0    AMC Concord   4099   22      3  Domestic\n",
       "1      AMC Pacer   4749   17      3  Domestic\n",
       "2     AMC Spirit   3799   22    NaN  Domestic\n",
       "3  Buick Century   4816   20      3  Domestic\n",
       "4  Buick Electra   7827   15      4  Domestic"
      ]
     },
     "execution_count": 66,
     "metadata": {},
     "output_type": "execute_result"
    }
   ],
   "source": [
    "auto[['make', 'price', 'mpg', 'rep78', 'foreign']].head(5) "
   ]
  },
  {
   "cell_type": "code",
   "execution_count": 67,
   "metadata": {
    "collapsed": false,
    "slideshow": {
     "slide_type": "slide"
    }
   },
   "outputs": [
    {
     "name": "stdout",
     "output_type": "stream",
     "text": [
      "preserve\n",
      "\n",
      ". keep if foreign\n",
      "(52 observations deleted)\n",
      "\n",
      ". list make price mpg rep78 in 1/5\n",
      "\n",
      "     +----------------------------------+\n",
      "     | make         price   mpg   rep78 |\n",
      "     |----------------------------------|\n",
      "  1. | Audi 5000    9,690    17       5 |\n",
      "  2. | Audi Fox     6,295    23       3 |\n",
      "  3. | BMW 320i     9,735    25       4 |\n",
      "  4. | Datsun 200   6,229    23       4 |\n",
      "  5. | Datsun 210   4,589    35       5 |\n",
      "     +----------------------------------+\n",
      "\n",
      ". restore\n",
      "\n",
      ". "
     ]
    }
   ],
   "source": [
    "demo.write('\\n'.join(['preserve',\n",
    "                      'keep if foreign',\n",
    "                      'list make price mpg rep78 in 1/5',\n",
    "                      'restore']))"
   ]
  },
  {
   "cell_type": "code",
   "execution_count": 68,
   "metadata": {
    "collapsed": false,
    "slideshow": {
     "slide_type": "subslide"
    }
   },
   "outputs": [
    {
     "data": {
      "text/html": [
       "<div style=\"max-height:1000px;max-width:1500px;overflow:auto;\">\n",
       "<table border=\"1\" class=\"dataframe\">\n",
       "  <thead>\n",
       "    <tr style=\"text-align: right;\">\n",
       "      <th></th>\n",
       "      <th>make</th>\n",
       "      <th>price</th>\n",
       "      <th>mpg</th>\n",
       "      <th>rep78</th>\n",
       "      <th>foreign</th>\n",
       "    </tr>\n",
       "  </thead>\n",
       "  <tbody>\n",
       "    <tr>\n",
       "      <th>52</th>\n",
       "      <td>Audi 5000</td>\n",
       "      <td>9690</td>\n",
       "      <td>17</td>\n",
       "      <td>5</td>\n",
       "      <td>Foreign</td>\n",
       "    </tr>\n",
       "    <tr>\n",
       "      <th>53</th>\n",
       "      <td>Audi Fox</td>\n",
       "      <td>6295</td>\n",
       "      <td>23</td>\n",
       "      <td>3</td>\n",
       "      <td>Foreign</td>\n",
       "    </tr>\n",
       "    <tr>\n",
       "      <th>54</th>\n",
       "      <td>BMW 320i</td>\n",
       "      <td>9735</td>\n",
       "      <td>25</td>\n",
       "      <td>4</td>\n",
       "      <td>Foreign</td>\n",
       "    </tr>\n",
       "    <tr>\n",
       "      <th>55</th>\n",
       "      <td>Datsun 200</td>\n",
       "      <td>6229</td>\n",
       "      <td>23</td>\n",
       "      <td>4</td>\n",
       "      <td>Foreign</td>\n",
       "    </tr>\n",
       "    <tr>\n",
       "      <th>56</th>\n",
       "      <td>Datsun 210</td>\n",
       "      <td>4589</td>\n",
       "      <td>35</td>\n",
       "      <td>5</td>\n",
       "      <td>Foreign</td>\n",
       "    </tr>\n",
       "  </tbody>\n",
       "</table>\n",
       "</div>"
      ],
      "text/plain": [
       "          make  price  mpg  rep78  foreign\n",
       "52   Audi 5000   9690   17      5  Foreign\n",
       "53    Audi Fox   6295   23      3  Foreign\n",
       "54    BMW 320i   9735   25      4  Foreign\n",
       "55  Datsun 200   6229   23      4  Foreign\n",
       "56  Datsun 210   4589   35      5  Foreign"
      ]
     },
     "execution_count": 68,
     "metadata": {},
     "output_type": "execute_result"
    }
   ],
   "source": [
    "auto[auto.foreign=='Foreign'][['make',\n",
    "                               'price',\n",
    "                               'mpg',\n",
    "                               'rep78',\n",
    "                               'foreign']].head(5)"
   ]
  },
  {
   "cell_type": "code",
   "execution_count": 69,
   "metadata": {
    "collapsed": false,
    "slideshow": {
     "slide_type": "slide"
    }
   },
   "outputs": [
    {
     "name": "stdout",
     "output_type": "stream",
     "text": [
      "list make price mpg rep78 foreign if missing(rep78)\n",
      "\n",
      "     +-------------------------------------------------+\n",
      "     | make             price   mpg   rep78    foreign |\n",
      "     |-------------------------------------------------|\n",
      "  3. | AMC Spirit       3,799    22       .   Domestic |\n",
      "  7. | Buick Opel       4,453    26       .   Domestic |\n",
      " 45. | Plym. Sapporo    6,486    26       .   Domestic |\n",
      " 51. | Pont. Phoenix    4,424    19       .   Domestic |\n",
      " 64. | Peugeot 604     12,990    14       .    Foreign |\n",
      "     +-------------------------------------------------+\n",
      "\n",
      ". "
     ]
    }
   ],
   "source": [
    "demo.write('list make price mpg rep78 foreign if missing(rep78)')"
   ]
  },
  {
   "cell_type": "code",
   "execution_count": 70,
   "metadata": {
    "collapsed": false,
    "slideshow": {
     "slide_type": "subslide"
    }
   },
   "outputs": [
    {
     "data": {
      "text/html": [
       "<div style=\"max-height:1000px;max-width:1500px;overflow:auto;\">\n",
       "<table border=\"1\" class=\"dataframe\">\n",
       "  <thead>\n",
       "    <tr style=\"text-align: right;\">\n",
       "      <th></th>\n",
       "      <th>make</th>\n",
       "      <th>price</th>\n",
       "      <th>mpg</th>\n",
       "      <th>rep78</th>\n",
       "      <th>headroom</th>\n",
       "      <th>trunk</th>\n",
       "      <th>weight</th>\n",
       "      <th>length</th>\n",
       "      <th>turn</th>\n",
       "      <th>displacement</th>\n",
       "      <th>gear_ratio</th>\n",
       "      <th>foreign</th>\n",
       "    </tr>\n",
       "  </thead>\n",
       "  <tbody>\n",
       "    <tr>\n",
       "      <th>2</th>\n",
       "      <td>AMC Spirit</td>\n",
       "      <td>3799</td>\n",
       "      <td>22</td>\n",
       "      <td>NaN</td>\n",
       "      <td>3.0</td>\n",
       "      <td>12</td>\n",
       "      <td>2640</td>\n",
       "      <td>168</td>\n",
       "      <td>35</td>\n",
       "      <td>121</td>\n",
       "      <td>3.08</td>\n",
       "      <td>Domestic</td>\n",
       "    </tr>\n",
       "    <tr>\n",
       "      <th>6</th>\n",
       "      <td>Buick Opel</td>\n",
       "      <td>4453</td>\n",
       "      <td>26</td>\n",
       "      <td>NaN</td>\n",
       "      <td>3.0</td>\n",
       "      <td>10</td>\n",
       "      <td>2230</td>\n",
       "      <td>170</td>\n",
       "      <td>34</td>\n",
       "      <td>304</td>\n",
       "      <td>2.87</td>\n",
       "      <td>Domestic</td>\n",
       "    </tr>\n",
       "    <tr>\n",
       "      <th>44</th>\n",
       "      <td>Plym. Sapporo</td>\n",
       "      <td>6486</td>\n",
       "      <td>26</td>\n",
       "      <td>NaN</td>\n",
       "      <td>1.5</td>\n",
       "      <td>8</td>\n",
       "      <td>2520</td>\n",
       "      <td>182</td>\n",
       "      <td>38</td>\n",
       "      <td>119</td>\n",
       "      <td>3.54</td>\n",
       "      <td>Domestic</td>\n",
       "    </tr>\n",
       "    <tr>\n",
       "      <th>50</th>\n",
       "      <td>Pont. Phoenix</td>\n",
       "      <td>4424</td>\n",
       "      <td>19</td>\n",
       "      <td>NaN</td>\n",
       "      <td>3.5</td>\n",
       "      <td>13</td>\n",
       "      <td>3420</td>\n",
       "      <td>203</td>\n",
       "      <td>43</td>\n",
       "      <td>231</td>\n",
       "      <td>3.08</td>\n",
       "      <td>Domestic</td>\n",
       "    </tr>\n",
       "    <tr>\n",
       "      <th>63</th>\n",
       "      <td>Peugeot 604</td>\n",
       "      <td>12990</td>\n",
       "      <td>14</td>\n",
       "      <td>NaN</td>\n",
       "      <td>3.5</td>\n",
       "      <td>14</td>\n",
       "      <td>3420</td>\n",
       "      <td>192</td>\n",
       "      <td>38</td>\n",
       "      <td>163</td>\n",
       "      <td>3.58</td>\n",
       "      <td>Foreign</td>\n",
       "    </tr>\n",
       "  </tbody>\n",
       "</table>\n",
       "</div>"
      ],
      "text/plain": [
       "             make  price  mpg  rep78  headroom  trunk  weight  length  turn  \\\n",
       "2      AMC Spirit   3799   22    NaN       3.0     12    2640     168    35   \n",
       "6      Buick Opel   4453   26    NaN       3.0     10    2230     170    34   \n",
       "44  Plym. Sapporo   6486   26    NaN       1.5      8    2520     182    38   \n",
       "50  Pont. Phoenix   4424   19    NaN       3.5     13    3420     203    43   \n",
       "63    Peugeot 604  12990   14    NaN       3.5     14    3420     192    38   \n",
       "\n",
       "    displacement  gear_ratio   foreign  \n",
       "2            121        3.08  Domestic  \n",
       "6            304        2.87  Domestic  \n",
       "44           119        3.54  Domestic  \n",
       "50           231        3.08  Domestic  \n",
       "63           163        3.58   Foreign  "
      ]
     },
     "execution_count": 70,
     "metadata": {},
     "output_type": "execute_result"
    }
   ],
   "source": [
    "auto[auto.rep78.isnull()]"
   ]
  },
  {
   "cell_type": "code",
   "execution_count": 71,
   "metadata": {
    "collapsed": false,
    "slideshow": {
     "slide_type": "slide"
    }
   },
   "outputs": [
    {
     "name": "stdout",
     "output_type": "stream",
     "text": [
      "summarize price, detail\n",
      "\n",
      "                            Price\n",
      "-------------------------------------------------------------\n",
      "      Percentiles      Smallest\n",
      " 1%         3291           3291\n",
      " 5%         3748           3299\n",
      "10%         3895           3667       Obs                  74\n",
      "25%         4195           3748       Sum of Wgt.          74\n",
      "\n",
      "50%       5006.5                      Mean           6165.257\n",
      "                        Largest       Std. Dev.      2949.496\n",
      "75%         6342          13466\n",
      "90%        11385          13594       Variance        8699526\n",
      "95%        13466          14500       Skewness       1.653434\n",
      "99%        15906          15906       Kurtosis       4.819188\n",
      "\n",
      ". "
     ]
    }
   ],
   "source": [
    "demo.write('summarize price, detail')"
   ]
  },
  {
   "cell_type": "code",
   "execution_count": 72,
   "metadata": {
    "collapsed": false,
    "slideshow": {
     "slide_type": "subslide"
    }
   },
   "outputs": [
    {
     "data": {
      "text/plain": [
       "count       74.000000\n",
       "mean      6165.256757\n",
       "std       2949.495885\n",
       "min       3291.000000\n",
       "25%       4220.250000\n",
       "50%       5006.500000\n",
       "75%       6332.250000\n",
       "max      15906.000000\n",
       "Name: price, dtype: float64"
      ]
     },
     "execution_count": 72,
     "metadata": {},
     "output_type": "execute_result"
    }
   ],
   "source": [
    "auto.price.describe()"
   ]
  },
  {
   "cell_type": "code",
   "execution_count": 73,
   "metadata": {
    "collapsed": false,
    "slideshow": {
     "slide_type": "fragment"
    }
   },
   "outputs": [
    {
     "data": {
      "text/plain": [
       "(2.0340476757316752, 1.6878409877224991, 8699525.9742687885)"
      ]
     },
     "execution_count": 73,
     "metadata": {},
     "output_type": "execute_result"
    }
   ],
   "source": [
    "auto.price.kurtosis(), auto.price.skew(), auto.price.var()"
   ]
  },
  {
   "cell_type": "code",
   "execution_count": 74,
   "metadata": {
    "collapsed": false,
    "slideshow": {
     "slide_type": "subslide"
    }
   },
   "outputs": [
    {
     "data": {
      "text/plain": [
       "33    3291\n",
       "13    3299\n",
       "17    3667\n",
       "67    3748\n",
       "Name: price, dtype: int16"
      ]
     },
     "execution_count": 74,
     "metadata": {},
     "output_type": "execute_result"
    }
   ],
   "source": [
    "auto.price.sort(inplace=False).head(4)"
   ]
  },
  {
   "cell_type": "code",
   "execution_count": 75,
   "metadata": {
    "collapsed": false,
    "slideshow": {
     "slide_type": "fragment"
    }
   },
   "outputs": [
    {
     "data": {
      "text/plain": [
       "27    13466\n",
       "26    13594\n",
       "11    14500\n",
       "12    15906\n",
       "Name: price, dtype: int16"
      ]
     },
     "execution_count": 75,
     "metadata": {},
     "output_type": "execute_result"
    }
   ],
   "source": [
    "auto.price.sort(inplace=False).tail(4)"
   ]
  },
  {
   "cell_type": "code",
   "execution_count": 76,
   "metadata": {
    "collapsed": false,
    "slideshow": {
     "slide_type": "slide"
    }
   },
   "outputs": [
    {
     "name": "stdout",
     "output_type": "stream",
     "text": [
      "tabulate foreign\n",
      "\n",
      "   Car type |      Freq.     Percent        Cum.\n",
      "------------+-----------------------------------\n",
      "   Domestic |         52       70.27       70.27\n",
      "    Foreign |         22       29.73      100.00\n",
      "------------+-----------------------------------\n",
      "      Total |         74      100.00\n",
      "\n",
      ". "
     ]
    }
   ],
   "source": [
    "demo.write('tabulate foreign')"
   ]
  },
  {
   "cell_type": "code",
   "execution_count": 77,
   "metadata": {
    "collapsed": false,
    "slideshow": {
     "slide_type": "subslide"
    }
   },
   "outputs": [
    {
     "data": {
      "text/plain": [
       "Domestic    52\n",
       "Foreign     22\n",
       "dtype: int64"
      ]
     },
     "execution_count": 77,
     "metadata": {},
     "output_type": "execute_result"
    }
   ],
   "source": [
    "auto.foreign.value_counts()"
   ]
  },
  {
   "cell_type": "code",
   "execution_count": 78,
   "metadata": {
    "collapsed": false,
    "slideshow": {
     "slide_type": "slide"
    }
   },
   "outputs": [
    {
     "name": "stdout",
     "output_type": "stream",
     "text": [
      "tabulate rep78\n",
      "\n",
      "     Repair |\n",
      "Record 1978 |      Freq.     Percent        Cum.\n",
      "------------+-----------------------------------\n",
      "          1 |          2        2.90        2.90\n",
      "          2 |          8       11.59       14.49\n",
      "          3 |         30       43.48       57.97\n",
      "          4 |         18       26.09       84.06\n",
      "          5 |         11       15.94      100.00\n",
      "------------+-----------------------------------\n",
      "      Total |         69      100.00\n",
      "\n",
      ". "
     ]
    }
   ],
   "source": [
    "demo.write('tabulate rep78')"
   ]
  },
  {
   "cell_type": "code",
   "execution_count": 79,
   "metadata": {
    "collapsed": false,
    "slideshow": {
     "slide_type": "subslide"
    }
   },
   "outputs": [
    {
     "data": {
      "text/plain": [
       "3    30\n",
       "4    18\n",
       "5    11\n",
       "2     8\n",
       "1     2\n",
       "dtype: int64"
      ]
     },
     "execution_count": 79,
     "metadata": {},
     "output_type": "execute_result"
    }
   ],
   "source": [
    "auto.rep78.value_counts()"
   ]
  },
  {
   "cell_type": "code",
   "execution_count": 80,
   "metadata": {
    "collapsed": false,
    "slideshow": {
     "slide_type": "slide"
    }
   },
   "outputs": [
    {
     "name": "stdout",
     "output_type": "stream",
     "text": [
      "tabulate rep78 foreign\n",
      "\n",
      "    Repair |\n",
      "    Record |       Car type\n",
      "      1978 |  Domestic    Foreign |     Total\n",
      "-----------+----------------------+----------\n",
      "         1 |         2          0 |         2 \n",
      "         2 |         8          0 |         8 \n",
      "         3 |        27          3 |        30 \n",
      "         4 |         9          9 |        18 \n",
      "         5 |         2          9 |        11 \n",
      "-----------+----------------------+----------\n",
      "     Total |        48         21 |        69 \n",
      "\n",
      "\n",
      ". "
     ]
    }
   ],
   "source": [
    "demo.write('tabulate rep78 foreign')"
   ]
  },
  {
   "cell_type": "code",
   "execution_count": 81,
   "metadata": {
    "collapsed": false,
    "slideshow": {
     "slide_type": "subslide"
    }
   },
   "outputs": [
    {
     "data": {
      "text/html": [
       "<div style=\"max-height:1000px;max-width:1500px;overflow:auto;\">\n",
       "<table border=\"1\" class=\"dataframe\">\n",
       "  <thead>\n",
       "    <tr style=\"text-align: right;\">\n",
       "      <th>foreign</th>\n",
       "      <th>Domestic</th>\n",
       "      <th>Foreign</th>\n",
       "    </tr>\n",
       "    <tr>\n",
       "      <th>rep78</th>\n",
       "      <th></th>\n",
       "      <th></th>\n",
       "    </tr>\n",
       "  </thead>\n",
       "  <tbody>\n",
       "    <tr>\n",
       "      <th>1</th>\n",
       "      <td>2</td>\n",
       "      <td>0</td>\n",
       "    </tr>\n",
       "    <tr>\n",
       "      <th>2</th>\n",
       "      <td>8</td>\n",
       "      <td>0</td>\n",
       "    </tr>\n",
       "    <tr>\n",
       "      <th>3</th>\n",
       "      <td>27</td>\n",
       "      <td>3</td>\n",
       "    </tr>\n",
       "    <tr>\n",
       "      <th>4</th>\n",
       "      <td>9</td>\n",
       "      <td>9</td>\n",
       "    </tr>\n",
       "    <tr>\n",
       "      <th>5</th>\n",
       "      <td>2</td>\n",
       "      <td>9</td>\n",
       "    </tr>\n",
       "  </tbody>\n",
       "</table>\n",
       "</div>"
      ],
      "text/plain": [
       "foreign  Domestic  Foreign\n",
       "rep78                     \n",
       "1               2        0\n",
       "2               8        0\n",
       "3              27        3\n",
       "4               9        9\n",
       "5               2        9"
      ]
     },
     "execution_count": 81,
     "metadata": {},
     "output_type": "execute_result"
    }
   ],
   "source": [
    "pd.crosstab(auto.rep78, auto.foreign)"
   ]
  },
  {
   "cell_type": "code",
   "execution_count": 82,
   "metadata": {
    "collapsed": false,
    "slideshow": {
     "slide_type": "slide"
    }
   },
   "outputs": [
    {
     "name": "stdout",
     "output_type": "stream",
     "text": [
      "tabulate rep78 foreign, missing\n",
      "\n",
      "    Repair |\n",
      "    Record |       Car type\n",
      "      1978 |  Domestic    Foreign |     Total\n",
      "-----------+----------------------+----------\n",
      "         1 |         2          0 |         2 \n",
      "         2 |         8          0 |         8 \n",
      "         3 |        27          3 |        30 \n",
      "         4 |         9          9 |        18 \n",
      "         5 |         2          9 |        11 \n",
      "         . |         4          1 |         5 \n",
      "-----------+----------------------+----------\n",
      "     Total |        52         22 |        74 \n",
      "\n",
      "\n",
      ". "
     ]
    }
   ],
   "source": [
    "demo.write('tabulate rep78 foreign, missing')"
   ]
  },
  {
   "cell_type": "code",
   "execution_count": 83,
   "metadata": {
    "collapsed": false,
    "slideshow": {
     "slide_type": "subslide"
    }
   },
   "outputs": [
    {
     "data": {
      "text/html": [
       "<div style=\"max-height:1000px;max-width:1500px;overflow:auto;\">\n",
       "<table border=\"1\" class=\"dataframe\">\n",
       "  <thead>\n",
       "    <tr style=\"text-align: right;\">\n",
       "      <th>foreign</th>\n",
       "      <th>Domestic</th>\n",
       "      <th>Foreign</th>\n",
       "      <th>All</th>\n",
       "    </tr>\n",
       "    <tr>\n",
       "      <th>rep78</th>\n",
       "      <th></th>\n",
       "      <th></th>\n",
       "      <th></th>\n",
       "    </tr>\n",
       "  </thead>\n",
       "  <tbody>\n",
       "    <tr>\n",
       "      <th>0.0</th>\n",
       "      <td>4</td>\n",
       "      <td>1</td>\n",
       "      <td>5</td>\n",
       "    </tr>\n",
       "    <tr>\n",
       "      <th>1.0</th>\n",
       "      <td>2</td>\n",
       "      <td>0</td>\n",
       "      <td>2</td>\n",
       "    </tr>\n",
       "    <tr>\n",
       "      <th>2.0</th>\n",
       "      <td>8</td>\n",
       "      <td>0</td>\n",
       "      <td>8</td>\n",
       "    </tr>\n",
       "    <tr>\n",
       "      <th>3.0</th>\n",
       "      <td>27</td>\n",
       "      <td>3</td>\n",
       "      <td>30</td>\n",
       "    </tr>\n",
       "    <tr>\n",
       "      <th>4.0</th>\n",
       "      <td>9</td>\n",
       "      <td>9</td>\n",
       "      <td>18</td>\n",
       "    </tr>\n",
       "    <tr>\n",
       "      <th>5.0</th>\n",
       "      <td>2</td>\n",
       "      <td>9</td>\n",
       "      <td>11</td>\n",
       "    </tr>\n",
       "    <tr>\n",
       "      <th>All</th>\n",
       "      <td>52</td>\n",
       "      <td>22</td>\n",
       "      <td>74</td>\n",
       "    </tr>\n",
       "  </tbody>\n",
       "</table>\n",
       "</div>"
      ],
      "text/plain": [
       "foreign  Domestic  Foreign  All\n",
       "rep78                          \n",
       "0.0             4        1    5\n",
       "1.0             2        0    2\n",
       "2.0             8        0    8\n",
       "3.0            27        3   30\n",
       "4.0             9        9   18\n",
       "5.0             2        9   11\n",
       "All            52       22   74"
      ]
     },
     "execution_count": 83,
     "metadata": {},
     "output_type": "execute_result"
    }
   ],
   "source": [
    "pd.crosstab(auto.rep78.fillna(0), auto.foreign, margins=True)"
   ]
  },
  {
   "cell_type": "code",
   "execution_count": 84,
   "metadata": {
    "collapsed": false,
    "slideshow": {
     "slide_type": "subslide"
    }
   },
   "outputs": [
    {
     "data": {
      "text/html": [
       "<div style=\"max-height:1000px;max-width:1500px;overflow:auto;\">\n",
       "<table border=\"1\" class=\"dataframe\">\n",
       "  <thead>\n",
       "    <tr style=\"text-align: right;\">\n",
       "      <th>foreign</th>\n",
       "      <th>Domestic</th>\n",
       "      <th>Foreign</th>\n",
       "    </tr>\n",
       "    <tr>\n",
       "      <th>rep78</th>\n",
       "      <th></th>\n",
       "      <th></th>\n",
       "    </tr>\n",
       "  </thead>\n",
       "  <tbody>\n",
       "    <tr>\n",
       "      <th>1</th>\n",
       "      <td>0.041667</td>\n",
       "      <td>0.000000</td>\n",
       "    </tr>\n",
       "    <tr>\n",
       "      <th>2</th>\n",
       "      <td>0.166667</td>\n",
       "      <td>0.000000</td>\n",
       "    </tr>\n",
       "    <tr>\n",
       "      <th>3</th>\n",
       "      <td>0.562500</td>\n",
       "      <td>0.142857</td>\n",
       "    </tr>\n",
       "    <tr>\n",
       "      <th>4</th>\n",
       "      <td>0.187500</td>\n",
       "      <td>0.428571</td>\n",
       "    </tr>\n",
       "    <tr>\n",
       "      <th>5</th>\n",
       "      <td>0.041667</td>\n",
       "      <td>0.428571</td>\n",
       "    </tr>\n",
       "  </tbody>\n",
       "</table>\n",
       "</div>"
      ],
      "text/plain": [
       "foreign  Domestic   Foreign\n",
       "rep78                      \n",
       "1        0.041667  0.000000\n",
       "2        0.166667  0.000000\n",
       "3        0.562500  0.142857\n",
       "4        0.187500  0.428571\n",
       "5        0.041667  0.428571"
      ]
     },
     "execution_count": 84,
     "metadata": {},
     "output_type": "execute_result"
    }
   ],
   "source": [
    "pd.crosstab(auto.rep78, auto.foreign).apply(lambda r: r/r.sum(), axis=0)"
   ]
  },
  {
   "cell_type": "code",
   "execution_count": 85,
   "metadata": {
    "collapsed": false,
    "slideshow": {
     "slide_type": "slide"
    }
   },
   "outputs": [
    {
     "name": "stdout",
     "output_type": "stream",
     "text": [
      "summarize if foreign\n",
      "\n",
      "    Variable |       Obs        Mean    Std. Dev.       Min        Max\n",
      "-------------+--------------------------------------------------------\n",
      "        make |         0\n",
      "       price |        22    6384.682    2621.915       3748      12990\n",
      "         mpg |        22    24.77273    6.611187         14         41\n",
      "       rep78 |        21    4.285714    .7171372          3          5\n",
      "    headroom |        22    2.613636    .4862837        1.5        3.5\n",
      "-------------+--------------------------------------------------------\n",
      "       trunk |        22    11.40909    3.216906          5         16\n",
      "      weight |        22    2315.909    433.0035       1760       3420\n",
      "      length |        22    168.5455    13.68255        142        193\n",
      "        turn |        22    35.40909    1.501082         32         38\n",
      "displacement |        22    111.2273    24.88054         79        163\n",
      "-------------+--------------------------------------------------------\n",
      "  gear_ratio |        22    3.507273    .2969076       2.98       3.89\n",
      "     foreign |        22           1           0          1          1\n",
      "\n",
      ". "
     ]
    }
   ],
   "source": [
    "demo.write('summarize if foreign')"
   ]
  },
  {
   "cell_type": "code",
   "execution_count": 86,
   "metadata": {
    "collapsed": false,
    "slideshow": {
     "slide_type": "subslide"
    }
   },
   "outputs": [
    {
     "data": {
      "text/html": [
       "<div style=\"max-height:1000px;max-width:1500px;overflow:auto;\">\n",
       "<table border=\"1\" class=\"dataframe\">\n",
       "  <thead>\n",
       "    <tr style=\"text-align: right;\">\n",
       "      <th></th>\n",
       "      <th>count</th>\n",
       "      <th>mean</th>\n",
       "      <th>std</th>\n",
       "      <th>min</th>\n",
       "      <th>25%</th>\n",
       "      <th>50%</th>\n",
       "      <th>75%</th>\n",
       "      <th>max</th>\n",
       "    </tr>\n",
       "  </thead>\n",
       "  <tbody>\n",
       "    <tr>\n",
       "      <th>price</th>\n",
       "      <td>22</td>\n",
       "      <td>6384.681818</td>\n",
       "      <td>2621.915083</td>\n",
       "      <td>3748.00</td>\n",
       "      <td>4521.5000</td>\n",
       "      <td>5759.00</td>\n",
       "      <td>7067.5000</td>\n",
       "      <td>12990.00</td>\n",
       "    </tr>\n",
       "    <tr>\n",
       "      <th>mpg</th>\n",
       "      <td>22</td>\n",
       "      <td>24.772727</td>\n",
       "      <td>6.611187</td>\n",
       "      <td>14.00</td>\n",
       "      <td>21.0000</td>\n",
       "      <td>24.50</td>\n",
       "      <td>27.5000</td>\n",
       "      <td>41.00</td>\n",
       "    </tr>\n",
       "    <tr>\n",
       "      <th>rep78</th>\n",
       "      <td>21</td>\n",
       "      <td>4.285714</td>\n",
       "      <td>0.717137</td>\n",
       "      <td>3.00</td>\n",
       "      <td>4.0000</td>\n",
       "      <td>4.00</td>\n",
       "      <td>5.0000</td>\n",
       "      <td>5.00</td>\n",
       "    </tr>\n",
       "    <tr>\n",
       "      <th>headroom</th>\n",
       "      <td>22</td>\n",
       "      <td>2.613636</td>\n",
       "      <td>0.486284</td>\n",
       "      <td>1.50</td>\n",
       "      <td>2.5000</td>\n",
       "      <td>2.50</td>\n",
       "      <td>3.0000</td>\n",
       "      <td>3.50</td>\n",
       "    </tr>\n",
       "    <tr>\n",
       "      <th>trunk</th>\n",
       "      <td>22</td>\n",
       "      <td>11.409091</td>\n",
       "      <td>3.216906</td>\n",
       "      <td>5.00</td>\n",
       "      <td>9.2500</td>\n",
       "      <td>11.00</td>\n",
       "      <td>14.0000</td>\n",
       "      <td>16.00</td>\n",
       "    </tr>\n",
       "    <tr>\n",
       "      <th>weight</th>\n",
       "      <td>22</td>\n",
       "      <td>2315.909091</td>\n",
       "      <td>433.003454</td>\n",
       "      <td>1760.00</td>\n",
       "      <td>2025.0000</td>\n",
       "      <td>2180.00</td>\n",
       "      <td>2590.0000</td>\n",
       "      <td>3420.00</td>\n",
       "    </tr>\n",
       "    <tr>\n",
       "      <th>length</th>\n",
       "      <td>22</td>\n",
       "      <td>168.545455</td>\n",
       "      <td>13.682548</td>\n",
       "      <td>142.00</td>\n",
       "      <td>157.2500</td>\n",
       "      <td>170.00</td>\n",
       "      <td>174.7500</td>\n",
       "      <td>193.00</td>\n",
       "    </tr>\n",
       "    <tr>\n",
       "      <th>turn</th>\n",
       "      <td>22</td>\n",
       "      <td>35.409091</td>\n",
       "      <td>1.501082</td>\n",
       "      <td>32.00</td>\n",
       "      <td>34.2500</td>\n",
       "      <td>36.00</td>\n",
       "      <td>36.0000</td>\n",
       "      <td>38.00</td>\n",
       "    </tr>\n",
       "    <tr>\n",
       "      <th>displacement</th>\n",
       "      <td>22</td>\n",
       "      <td>111.227273</td>\n",
       "      <td>24.880537</td>\n",
       "      <td>79.00</td>\n",
       "      <td>92.5000</td>\n",
       "      <td>101.00</td>\n",
       "      <td>128.5000</td>\n",
       "      <td>163.00</td>\n",
       "    </tr>\n",
       "    <tr>\n",
       "      <th>gear_ratio</th>\n",
       "      <td>22</td>\n",
       "      <td>3.507273</td>\n",
       "      <td>0.296906</td>\n",
       "      <td>2.98</td>\n",
       "      <td>3.2325</td>\n",
       "      <td>3.61</td>\n",
       "      <td>3.7375</td>\n",
       "      <td>3.89</td>\n",
       "    </tr>\n",
       "  </tbody>\n",
       "</table>\n",
       "</div>"
      ],
      "text/plain": [
       "              count         mean          std      min        25%      50%  \\\n",
       "price            22  6384.681818  2621.915083  3748.00  4521.5000  5759.00   \n",
       "mpg              22    24.772727     6.611187    14.00    21.0000    24.50   \n",
       "rep78            21     4.285714     0.717137     3.00     4.0000     4.00   \n",
       "headroom         22     2.613636     0.486284     1.50     2.5000     2.50   \n",
       "trunk            22    11.409091     3.216906     5.00     9.2500    11.00   \n",
       "weight           22  2315.909091   433.003454  1760.00  2025.0000  2180.00   \n",
       "length           22   168.545455    13.682548   142.00   157.2500   170.00   \n",
       "turn             22    35.409091     1.501082    32.00    34.2500    36.00   \n",
       "displacement     22   111.227273    24.880537    79.00    92.5000   101.00   \n",
       "gear_ratio       22     3.507273     0.296906     2.98     3.2325     3.61   \n",
       "\n",
       "                    75%       max  \n",
       "price         7067.5000  12990.00  \n",
       "mpg             27.5000     41.00  \n",
       "rep78            5.0000      5.00  \n",
       "headroom         3.0000      3.50  \n",
       "trunk           14.0000     16.00  \n",
       "weight        2590.0000   3420.00  \n",
       "length         174.7500    193.00  \n",
       "turn            36.0000     38.00  \n",
       "displacement   128.5000    163.00  \n",
       "gear_ratio       3.7375      3.89  "
      ]
     },
     "execution_count": 86,
     "metadata": {},
     "output_type": "execute_result"
    }
   ],
   "source": [
    "auto[auto.foreign=='Foreign'].describe().T"
   ]
  },
  {
   "cell_type": "code",
   "execution_count": 87,
   "metadata": {
    "collapsed": false,
    "slideshow": {
     "slide_type": "slide"
    }
   },
   "outputs": [
    {
     "name": "stdout",
     "output_type": "stream",
     "text": [
      "by foreign: summarize\n",
      "\n",
      "-------------------------------------------------------------------------------\n",
      "-> foreign = Domestic\n",
      "\n",
      "    Variable |       Obs        Mean    Std. Dev.       Min        Max\n",
      "-------------+--------------------------------------------------------\n",
      "        make |         0\n",
      "       price |        52    6072.423    3097.104       3291      15906\n",
      "         mpg |        52    19.82692    4.743297         12         34\n",
      "       rep78 |        48    3.020833     .837666          1          5\n",
      "    headroom |        52    3.153846    .9157578        1.5          5\n",
      "-------------+--------------------------------------------------------\n",
      "       trunk |        52       14.75    4.306288          7         23\n",
      "      weight |        52    3317.115    695.3637       1800       4840\n",
      "      length |        52    196.1346    20.04605        147        233\n",
      "        turn |        52    41.44231    3.967582         31         51\n",
      "displacement |        52    233.7115    85.26299         86        425\n",
      "-------------+--------------------------------------------------------\n",
      "  gear_ratio |        52    2.806538    .3359556       2.19       3.58\n",
      "     foreign |        52           0           0          0          0\n",
      "\n",
      "-------------------------------------------------------------------------------\n",
      "-> foreign = Foreign\n",
      "\n",
      "    Variable |       Obs        Mean    Std. Dev.       Min        Max\n",
      "-------------+--------------------------------------------------------\n",
      "        make |         0\n",
      "       price |        22    6384.682    2621.915       3748      12990\n",
      "         mpg |        22    24.77273    6.611187         14         41\n",
      "       rep78 |        21    4.285714    .7171372          3          5\n",
      "    headroom |        22    2.613636    .4862837        1.5        3.5\n",
      "-------------+--------------------------------------------------------\n",
      "       trunk |        22    11.40909    3.216906          5         16\n",
      "      weight |        22    2315.909    433.0035       1760       3420\n",
      "      length |        22    168.5455    13.68255        142        193\n",
      "        turn |        22    35.40909    1.501082         32         38\n",
      "displacement |        22    111.2273    24.88054         79        163\n",
      "-------------+--------------------------------------------------------\n",
      "  gear_ratio |        22    3.507273    .2969076       2.98       3.89\n",
      "     foreign |        22           1           0          1          1\n",
      "\n",
      "\n",
      ". "
     ]
    }
   ],
   "source": [
    "demo.write('by foreign: summarize')"
   ]
  },
  {
   "cell_type": "code",
   "execution_count": 88,
   "metadata": {
    "collapsed": false,
    "slideshow": {
     "slide_type": "subslide"
    }
   },
   "outputs": [
    {
     "data": {
      "text/html": [
       "<div style=\"max-height:1000px;max-width:1500px;overflow:auto;\">\n",
       "<table border=\"1\" class=\"dataframe\">\n",
       "  <thead>\n",
       "    <tr>\n",
       "      <th>foreign</th>\n",
       "      <th colspan=\"6\" halign=\"left\">Domestic</th>\n",
       "      <th colspan=\"6\" halign=\"left\">Foreign</th>\n",
       "    </tr>\n",
       "    <tr>\n",
       "      <th></th>\n",
       "      <th>count</th>\n",
       "      <th>mean</th>\n",
       "      <th>std</th>\n",
       "      <th>min</th>\n",
       "      <th>50%</th>\n",
       "      <th>max</th>\n",
       "      <th>count</th>\n",
       "      <th>mean</th>\n",
       "      <th>std</th>\n",
       "      <th>min</th>\n",
       "      <th>50%</th>\n",
       "      <th>max</th>\n",
       "    </tr>\n",
       "  </thead>\n",
       "  <tbody>\n",
       "    <tr>\n",
       "      <th>displacement</th>\n",
       "      <td>52</td>\n",
       "      <td>233.711538</td>\n",
       "      <td>85.262993</td>\n",
       "      <td>86.00</td>\n",
       "      <td>231.00</td>\n",
       "      <td>425.00</td>\n",
       "      <td>22</td>\n",
       "      <td>111.227273</td>\n",
       "      <td>24.880537</td>\n",
       "      <td>79.00</td>\n",
       "      <td>101.00</td>\n",
       "      <td>163.00</td>\n",
       "    </tr>\n",
       "    <tr>\n",
       "      <th>gear_ratio</th>\n",
       "      <td>52</td>\n",
       "      <td>2.806538</td>\n",
       "      <td>0.335960</td>\n",
       "      <td>2.19</td>\n",
       "      <td>2.75</td>\n",
       "      <td>3.58</td>\n",
       "      <td>22</td>\n",
       "      <td>3.507273</td>\n",
       "      <td>0.296906</td>\n",
       "      <td>2.98</td>\n",
       "      <td>3.61</td>\n",
       "      <td>3.89</td>\n",
       "    </tr>\n",
       "    <tr>\n",
       "      <th>headroom</th>\n",
       "      <td>52</td>\n",
       "      <td>3.153846</td>\n",
       "      <td>0.915758</td>\n",
       "      <td>1.50</td>\n",
       "      <td>3.50</td>\n",
       "      <td>5.00</td>\n",
       "      <td>22</td>\n",
       "      <td>2.613636</td>\n",
       "      <td>0.486284</td>\n",
       "      <td>1.50</td>\n",
       "      <td>2.50</td>\n",
       "      <td>3.50</td>\n",
       "    </tr>\n",
       "    <tr>\n",
       "      <th>length</th>\n",
       "      <td>52</td>\n",
       "      <td>196.134615</td>\n",
       "      <td>20.046054</td>\n",
       "      <td>147.00</td>\n",
       "      <td>200.00</td>\n",
       "      <td>233.00</td>\n",
       "      <td>22</td>\n",
       "      <td>168.545455</td>\n",
       "      <td>13.682548</td>\n",
       "      <td>142.00</td>\n",
       "      <td>170.00</td>\n",
       "      <td>193.00</td>\n",
       "    </tr>\n",
       "    <tr>\n",
       "      <th>mpg</th>\n",
       "      <td>52</td>\n",
       "      <td>19.826923</td>\n",
       "      <td>4.743297</td>\n",
       "      <td>12.00</td>\n",
       "      <td>19.00</td>\n",
       "      <td>34.00</td>\n",
       "      <td>22</td>\n",
       "      <td>24.772727</td>\n",
       "      <td>6.611187</td>\n",
       "      <td>14.00</td>\n",
       "      <td>24.50</td>\n",
       "      <td>41.00</td>\n",
       "    </tr>\n",
       "    <tr>\n",
       "      <th>price</th>\n",
       "      <td>52</td>\n",
       "      <td>6072.423077</td>\n",
       "      <td>3097.104279</td>\n",
       "      <td>3291.00</td>\n",
       "      <td>4782.50</td>\n",
       "      <td>15906.00</td>\n",
       "      <td>22</td>\n",
       "      <td>6384.681818</td>\n",
       "      <td>2621.915083</td>\n",
       "      <td>3748.00</td>\n",
       "      <td>5759.00</td>\n",
       "      <td>12990.00</td>\n",
       "    </tr>\n",
       "    <tr>\n",
       "      <th>rep78</th>\n",
       "      <td>48</td>\n",
       "      <td>3.020833</td>\n",
       "      <td>0.837666</td>\n",
       "      <td>1.00</td>\n",
       "      <td>3.00</td>\n",
       "      <td>5.00</td>\n",
       "      <td>21</td>\n",
       "      <td>4.285714</td>\n",
       "      <td>0.717137</td>\n",
       "      <td>3.00</td>\n",
       "      <td>4.00</td>\n",
       "      <td>5.00</td>\n",
       "    </tr>\n",
       "    <tr>\n",
       "      <th>trunk</th>\n",
       "      <td>52</td>\n",
       "      <td>14.750000</td>\n",
       "      <td>4.306288</td>\n",
       "      <td>7.00</td>\n",
       "      <td>16.00</td>\n",
       "      <td>23.00</td>\n",
       "      <td>22</td>\n",
       "      <td>11.409091</td>\n",
       "      <td>3.216906</td>\n",
       "      <td>5.00</td>\n",
       "      <td>11.00</td>\n",
       "      <td>16.00</td>\n",
       "    </tr>\n",
       "    <tr>\n",
       "      <th>turn</th>\n",
       "      <td>52</td>\n",
       "      <td>41.442308</td>\n",
       "      <td>3.967582</td>\n",
       "      <td>31.00</td>\n",
       "      <td>42.00</td>\n",
       "      <td>51.00</td>\n",
       "      <td>22</td>\n",
       "      <td>35.409091</td>\n",
       "      <td>1.501082</td>\n",
       "      <td>32.00</td>\n",
       "      <td>36.00</td>\n",
       "      <td>38.00</td>\n",
       "    </tr>\n",
       "    <tr>\n",
       "      <th>weight</th>\n",
       "      <td>52</td>\n",
       "      <td>3317.115385</td>\n",
       "      <td>695.363740</td>\n",
       "      <td>1800.00</td>\n",
       "      <td>3360.00</td>\n",
       "      <td>4840.00</td>\n",
       "      <td>22</td>\n",
       "      <td>2315.909091</td>\n",
       "      <td>433.003454</td>\n",
       "      <td>1760.00</td>\n",
       "      <td>2180.00</td>\n",
       "      <td>3420.00</td>\n",
       "    </tr>\n",
       "  </tbody>\n",
       "</table>\n",
       "</div>"
      ],
      "text/plain": [
       "foreign      Domestic                                                        \\\n",
       "                count         mean          std      min      50%       max   \n",
       "displacement       52   233.711538    85.262993    86.00   231.00    425.00   \n",
       "gear_ratio         52     2.806538     0.335960     2.19     2.75      3.58   \n",
       "headroom           52     3.153846     0.915758     1.50     3.50      5.00   \n",
       "length             52   196.134615    20.046054   147.00   200.00    233.00   \n",
       "mpg                52    19.826923     4.743297    12.00    19.00     34.00   \n",
       "price              52  6072.423077  3097.104279  3291.00  4782.50  15906.00   \n",
       "rep78              48     3.020833     0.837666     1.00     3.00      5.00   \n",
       "trunk              52    14.750000     4.306288     7.00    16.00     23.00   \n",
       "turn               52    41.442308     3.967582    31.00    42.00     51.00   \n",
       "weight             52  3317.115385   695.363740  1800.00  3360.00   4840.00   \n",
       "\n",
       "foreign      Foreign                                                        \n",
       "               count         mean          std      min      50%       max  \n",
       "displacement      22   111.227273    24.880537    79.00   101.00    163.00  \n",
       "gear_ratio        22     3.507273     0.296906     2.98     3.61      3.89  \n",
       "headroom          22     2.613636     0.486284     1.50     2.50      3.50  \n",
       "length            22   168.545455    13.682548   142.00   170.00    193.00  \n",
       "mpg               22    24.772727     6.611187    14.00    24.50     41.00  \n",
       "price             22  6384.681818  2621.915083  3748.00  5759.00  12990.00  \n",
       "rep78             21     4.285714     0.717137     3.00     4.00      5.00  \n",
       "trunk             22    11.409091     3.216906     5.00    11.00     16.00  \n",
       "turn              22    35.409091     1.501082    32.00    36.00     38.00  \n",
       "weight            22  2315.909091   433.003454  1760.00  2180.00   3420.00  "
      ]
     },
     "execution_count": 88,
     "metadata": {},
     "output_type": "execute_result"
    }
   ],
   "source": [
    "auto.groupby(by=auto.foreign).describe(percentiles=[]).T"
   ]
  },
  {
   "cell_type": "code",
   "execution_count": 89,
   "metadata": {
    "collapsed": false,
    "slideshow": {
     "slide_type": "slide"
    }
   },
   "outputs": [
    {
     "name": "stdout",
     "output_type": "stream",
     "text": [
      "tabulate foreign, summarize(mpg)\n",
      "\n",
      "            |      Summary of Mileage (mpg)\n",
      "   Car type |        Mean   Std. Dev.       Freq.\n",
      "------------+------------------------------------\n",
      "   Domestic |   19.826923   4.7432972          52\n",
      "    Foreign |   24.772727   6.6111869          22\n",
      "------------+------------------------------------\n",
      "      Total |   21.297297   5.7855032          74\n",
      "\n",
      ". "
     ]
    }
   ],
   "source": [
    "demo.write('tabulate foreign, summarize(mpg)')"
   ]
  },
  {
   "cell_type": "code",
   "execution_count": 90,
   "metadata": {
    "collapsed": false,
    "slideshow": {
     "slide_type": "subslide"
    }
   },
   "outputs": [
    {
     "data": {
      "text/plain": [
       "foreign\n",
       "Domestic    19.826923\n",
       "Foreign     24.772727\n",
       "Name: mpg, dtype: float64"
      ]
     },
     "execution_count": 90,
     "metadata": {},
     "output_type": "execute_result"
    }
   ],
   "source": [
    "auto.groupby(by=auto.foreign)['mpg'].mean()"
   ]
  },
  {
   "cell_type": "code",
   "execution_count": 91,
   "metadata": {
    "collapsed": false,
    "slideshow": {
     "slide_type": "slide"
    }
   },
   "outputs": [
    {
     "name": "stdout",
     "output_type": "stream",
     "text": [
      "ttest mpg, by(foreign)\n",
      "\n",
      "Two-sample t test with equal variances\n",
      "------------------------------------------------------------------------------\n",
      "   Group |     Obs        Mean    Std. Err.   Std. Dev.   [95% Conf. Interval]\n",
      "---------+--------------------------------------------------------------------\n",
      "Domestic |      52    19.82692     .657777    4.743297    18.50638    21.14747\n",
      " Foreign |      22    24.77273     1.40951    6.611187    21.84149    27.70396\n",
      "---------+--------------------------------------------------------------------\n",
      "combined |      74     21.2973    .6725511    5.785503     19.9569    22.63769\n",
      "---------+--------------------------------------------------------------------\n",
      "    diff |           -4.945804    1.362162               -7.661225   -2.230384\n",
      "------------------------------------------------------------------------------\n",
      "    diff = mean(Domestic) - mean(Foreign)                         t =  -3.6308\n",
      "Ho: diff = 0                                     degrees of freedom =       72\n",
      "\n",
      "    Ha: diff < 0                 Ha: diff != 0                 Ha: diff > 0\n",
      " Pr(T < t) = 0.0003         Pr(|T| > |t|) = 0.0005          Pr(T > t) = 0.9997\n",
      "\n",
      ". "
     ]
    }
   ],
   "source": [
    "demo.write('ttest mpg, by(foreign)')"
   ]
  },
  {
   "cell_type": "code",
   "execution_count": 92,
   "metadata": {
    "collapsed": false,
    "slideshow": {
     "slide_type": "subslide"
    }
   },
   "outputs": [
    {
     "data": {
      "text/plain": [
       "(3.6308484477318377, 0.0005254159338341992)"
      ]
     },
     "execution_count": 92,
     "metadata": {},
     "output_type": "execute_result"
    }
   ],
   "source": [
    "from scipy.stats import ttest_ind\n",
    "ttest_ind(auto.mpg[auto.foreign=='Foreign'],\n",
    "          auto.mpg[auto.foreign=='Domestic'])"
   ]
  },
  {
   "cell_type": "code",
   "execution_count": 93,
   "metadata": {
    "collapsed": false,
    "slideshow": {
     "slide_type": "slide"
    }
   },
   "outputs": [
    {
     "name": "stdout",
     "output_type": "stream",
     "text": [
      "correlate mpg weight\n",
      "(obs=74)\n",
      "\n",
      "             |      mpg   weight\n",
      "-------------+------------------\n",
      "         mpg |   1.0000\n",
      "      weight |  -0.8072   1.0000\n",
      "\n",
      "\n",
      ". "
     ]
    }
   ],
   "source": [
    "demo.write('correlate mpg weight')"
   ]
  },
  {
   "cell_type": "code",
   "execution_count": 94,
   "metadata": {
    "collapsed": false,
    "slideshow": {
     "slide_type": "subslide"
    }
   },
   "outputs": [
    {
     "data": {
      "text/plain": [
       "-0.80717485894244212"
      ]
     },
     "execution_count": 94,
     "metadata": {},
     "output_type": "execute_result"
    }
   ],
   "source": [
    "auto.mpg.corr(auto.weight)"
   ]
  },
  {
   "cell_type": "code",
   "execution_count": 95,
   "metadata": {
    "collapsed": false,
    "slideshow": {
     "slide_type": "fragment"
    }
   },
   "outputs": [
    {
     "data": {
      "text/html": [
       "<div style=\"max-height:1000px;max-width:1500px;overflow:auto;\">\n",
       "<table border=\"1\" class=\"dataframe\">\n",
       "  <thead>\n",
       "    <tr style=\"text-align: right;\">\n",
       "      <th></th>\n",
       "      <th>mpg</th>\n",
       "      <th>weight</th>\n",
       "    </tr>\n",
       "  </thead>\n",
       "  <tbody>\n",
       "    <tr>\n",
       "      <th>mpg</th>\n",
       "      <td>1.000000</td>\n",
       "      <td>-0.807175</td>\n",
       "    </tr>\n",
       "    <tr>\n",
       "      <th>weight</th>\n",
       "      <td>-0.807175</td>\n",
       "      <td>1.000000</td>\n",
       "    </tr>\n",
       "  </tbody>\n",
       "</table>\n",
       "</div>"
      ],
      "text/plain": [
       "             mpg    weight\n",
       "mpg     1.000000 -0.807175\n",
       "weight -0.807175  1.000000"
      ]
     },
     "execution_count": 95,
     "metadata": {},
     "output_type": "execute_result"
    }
   ],
   "source": [
    "auto[['mpg','weight']].corr()"
   ]
  },
  {
   "cell_type": "code",
   "execution_count": 96,
   "metadata": {
    "collapsed": false,
    "slideshow": {
     "slide_type": "slide"
    }
   },
   "outputs": [
    {
     "name": "stdout",
     "output_type": "stream",
     "text": [
      "by foreign: correlate mpg weight\n",
      "\n",
      "-------------------------------------------------------------------------------\n",
      "-> foreign = Domestic\n",
      "(obs=52)\n",
      "\n",
      "             |      mpg   weight\n",
      "-------------+------------------\n",
      "         mpg |   1.0000\n",
      "      weight |  -0.8759   1.0000\n",
      "\n",
      "\n",
      "-------------------------------------------------------------------------------\n",
      "-> foreign = Foreign\n",
      "(obs=22)\n",
      "\n",
      "             |      mpg   weight\n",
      "-------------+------------------\n",
      "         mpg |   1.0000\n",
      "      weight |  -0.6829   1.0000\n",
      "\n",
      "\n",
      "\n",
      ". "
     ]
    }
   ],
   "source": [
    "demo.write('by foreign: correlate mpg weight')"
   ]
  },
  {
   "cell_type": "code",
   "execution_count": 97,
   "metadata": {
    "collapsed": false,
    "slideshow": {
     "slide_type": "subslide"
    }
   },
   "outputs": [
    {
     "data": {
      "text/html": [
       "<div style=\"max-height:1000px;max-width:1500px;overflow:auto;\">\n",
       "<table border=\"1\" class=\"dataframe\">\n",
       "  <thead>\n",
       "    <tr style=\"text-align: right;\">\n",
       "      <th></th>\n",
       "      <th></th>\n",
       "      <th>mpg</th>\n",
       "      <th>weight</th>\n",
       "    </tr>\n",
       "    <tr>\n",
       "      <th>foreign</th>\n",
       "      <th></th>\n",
       "      <th></th>\n",
       "      <th></th>\n",
       "    </tr>\n",
       "  </thead>\n",
       "  <tbody>\n",
       "    <tr>\n",
       "      <th rowspan=\"2\" valign=\"top\">Domestic</th>\n",
       "      <th>mpg</th>\n",
       "      <td>1.000000</td>\n",
       "      <td>-0.875943</td>\n",
       "    </tr>\n",
       "    <tr>\n",
       "      <th>weight</th>\n",
       "      <td>-0.875943</td>\n",
       "      <td>1.000000</td>\n",
       "    </tr>\n",
       "    <tr>\n",
       "      <th rowspan=\"2\" valign=\"top\">Foreign</th>\n",
       "      <th>mpg</th>\n",
       "      <td>1.000000</td>\n",
       "      <td>-0.682854</td>\n",
       "    </tr>\n",
       "    <tr>\n",
       "      <th>weight</th>\n",
       "      <td>-0.682854</td>\n",
       "      <td>1.000000</td>\n",
       "    </tr>\n",
       "  </tbody>\n",
       "</table>\n",
       "</div>"
      ],
      "text/plain": [
       "                      mpg    weight\n",
       "foreign                            \n",
       "Domestic mpg     1.000000 -0.875943\n",
       "         weight -0.875943  1.000000\n",
       "Foreign  mpg     1.000000 -0.682854\n",
       "         weight -0.682854  1.000000"
      ]
     },
     "execution_count": 97,
     "metadata": {},
     "output_type": "execute_result"
    }
   ],
   "source": [
    "auto.groupby(by=auto.foreign)[['mpg','weight']].corr()"
   ]
  },
  {
   "cell_type": "code",
   "execution_count": 98,
   "metadata": {
    "collapsed": false,
    "slideshow": {
     "slide_type": "slide"
    }
   },
   "outputs": [
    {
     "name": "stdout",
     "output_type": "stream",
     "text": [
      "regress mpg weight c.weight#c.weight i.foreign\n",
      "\n",
      "      Source |       SS       df       MS              Number of obs =      74\n",
      "-------------+------------------------------           F(  3,    70) =   52.25\n",
      "       Model |  1689.15372     3   563.05124           Prob > F      =  0.0000\n",
      "    Residual |   754.30574    70  10.7757963           R-squared     =  0.6913\n",
      "-------------+------------------------------           Adj R-squared =  0.6781\n",
      "       Total |  2443.45946    73  33.4720474           Root MSE      =  3.2827\n",
      "\n",
      "------------------------------------------------------------------------------\n",
      "         mpg |      Coef.   Std. Err.      t    P>|t|     [95% Conf. Interval]\n",
      "-------------+----------------------------------------------------------------\n",
      "      weight |  -.0165729   .0039692    -4.18   0.000    -.0244892   -.0086567\n",
      "             |\n",
      "    c.weight#|\n",
      "    c.weight |   1.59e-06   6.25e-07     2.55   0.013     3.45e-07    2.84e-06\n",
      "             |\n",
      "     foreign |\n",
      "    Foreign  |    -2.2035   1.059246    -2.08   0.041      -4.3161   -.0909002\n",
      "       _cons |   56.53884   6.197383     9.12   0.000     44.17855    68.89913\n",
      "------------------------------------------------------------------------------\n",
      "\n",
      ". "
     ]
    }
   ],
   "source": [
    "demo.write('regress mpg weight c.weight#c.weight i.foreign')"
   ]
  },
  {
   "cell_type": "code",
   "execution_count": 99,
   "metadata": {
    "collapsed": false,
    "slideshow": {
     "slide_type": "subslide"
    }
   },
   "outputs": [],
   "source": [
    "import statsmodels.api as sm"
   ]
  },
  {
   "cell_type": "code",
   "execution_count": 100,
   "metadata": {
    "collapsed": false,
    "slideshow": {
     "slide_type": "fragment"
    }
   },
   "outputs": [],
   "source": [
    "auto['wtsq'] = auto.weight.apply(lambda x: x**2)"
   ]
  },
  {
   "cell_type": "code",
   "execution_count": 101,
   "metadata": {
    "collapsed": false,
    "slideshow": {
     "slide_type": "fragment"
    }
   },
   "outputs": [
    {
     "data": {
      "text/html": [
       "<div style=\"max-height:1000px;max-width:1500px;overflow:auto;\">\n",
       "<table border=\"1\" class=\"dataframe\">\n",
       "  <thead>\n",
       "    <tr style=\"text-align: right;\">\n",
       "      <th></th>\n",
       "      <th>weight</th>\n",
       "      <th>wtsq</th>\n",
       "    </tr>\n",
       "  </thead>\n",
       "  <tbody>\n",
       "    <tr>\n",
       "      <th>0</th>\n",
       "      <td>2930</td>\n",
       "      <td>8584900</td>\n",
       "    </tr>\n",
       "    <tr>\n",
       "      <th>1</th>\n",
       "      <td>3350</td>\n",
       "      <td>11222500</td>\n",
       "    </tr>\n",
       "    <tr>\n",
       "      <th>2</th>\n",
       "      <td>2640</td>\n",
       "      <td>6969600</td>\n",
       "    </tr>\n",
       "    <tr>\n",
       "      <th>3</th>\n",
       "      <td>3250</td>\n",
       "      <td>10562500</td>\n",
       "    </tr>\n",
       "    <tr>\n",
       "      <th>4</th>\n",
       "      <td>4080</td>\n",
       "      <td>16646400</td>\n",
       "    </tr>\n",
       "  </tbody>\n",
       "</table>\n",
       "</div>"
      ],
      "text/plain": [
       "   weight      wtsq\n",
       "0    2930   8584900\n",
       "1    3350  11222500\n",
       "2    2640   6969600\n",
       "3    3250  10562500\n",
       "4    4080  16646400"
      ]
     },
     "execution_count": 101,
     "metadata": {},
     "output_type": "execute_result"
    }
   ],
   "source": [
    "auto[['weight', 'wtsq']].head()"
   ]
  },
  {
   "cell_type": "code",
   "execution_count": 102,
   "metadata": {
    "collapsed": false,
    "slideshow": {
     "slide_type": "fragment"
    }
   },
   "outputs": [],
   "source": [
    "auto['is_foreign'] = pd.get_dummies(auto.foreign)['Foreign']"
   ]
  },
  {
   "cell_type": "code",
   "execution_count": 103,
   "metadata": {
    "collapsed": false,
    "slideshow": {
     "slide_type": "subslide"
    }
   },
   "outputs": [],
   "source": [
    "X = auto[['weight', 'wtsq', 'is_foreign']]\n",
    "X = sm.add_constant(X)\n",
    "res = sm.OLS(endog = auto.mpg, exog=X).fit()"
   ]
  },
  {
   "cell_type": "code",
   "execution_count": 104,
   "metadata": {
    "collapsed": false,
    "slideshow": {
     "slide_type": "subslide"
    }
   },
   "outputs": [
    {
     "data": {
      "text/html": [
       "<table class=\"simpletable\">\n",
       "<caption>OLS Regression Results</caption>\n",
       "<tr>\n",
       "  <th>Dep. Variable:</th>           <td>mpg</td>       <th>  R-squared:         </th> <td>   0.691</td>\n",
       "</tr>\n",
       "<tr>\n",
       "  <th>Model:</th>                   <td>OLS</td>       <th>  Adj. R-squared:    </th> <td>   0.678</td>\n",
       "</tr>\n",
       "<tr>\n",
       "  <th>Method:</th>             <td>Least Squares</td>  <th>  F-statistic:       </th> <td>   52.25</td>\n",
       "</tr>\n",
       "<tr>\n",
       "  <th>Date:</th>             <td>Sat, 25 Jul 2015</td> <th>  Prob (F-statistic):</th> <td>7.68e-18</td>\n",
       "</tr>\n",
       "<tr>\n",
       "  <th>Time:</th>                 <td>21:43:49</td>     <th>  Log-Likelihood:    </th> <td> -190.91</td>\n",
       "</tr>\n",
       "<tr>\n",
       "  <th>No. Observations:</th>      <td>    74</td>      <th>  AIC:               </th> <td>   389.8</td>\n",
       "</tr>\n",
       "<tr>\n",
       "  <th>Df Residuals:</th>          <td>    70</td>      <th>  BIC:               </th> <td>   399.0</td>\n",
       "</tr>\n",
       "<tr>\n",
       "  <th>Df Model:</th>              <td>     3</td>      <th>                     </th>     <td> </td>   \n",
       "</tr>\n",
       "<tr>\n",
       "  <th>Covariance Type:</th>      <td>nonrobust</td>    <th>                     </th>     <td> </td>   \n",
       "</tr>\n",
       "</table>\n",
       "<table class=\"simpletable\">\n",
       "<tr>\n",
       "       <td></td>         <th>coef</th>     <th>std err</th>      <th>t</th>      <th>P>|t|</th> <th>[95.0% Conf. Int.]</th> \n",
       "</tr>\n",
       "<tr>\n",
       "  <th>const</th>      <td>   56.5388</td> <td>    6.197</td> <td>    9.123</td> <td> 0.000</td> <td>   44.179    68.899</td>\n",
       "</tr>\n",
       "<tr>\n",
       "  <th>weight</th>     <td>   -0.0166</td> <td>    0.004</td> <td>   -4.175</td> <td> 0.000</td> <td>   -0.024    -0.009</td>\n",
       "</tr>\n",
       "<tr>\n",
       "  <th>wtsq</th>       <td> 1.591e-06</td> <td> 6.25e-07</td> <td>    2.546</td> <td> 0.013</td> <td> 3.45e-07  2.84e-06</td>\n",
       "</tr>\n",
       "<tr>\n",
       "  <th>is_foreign</th> <td>   -2.2035</td> <td>    1.059</td> <td>   -2.080</td> <td> 0.041</td> <td>   -4.316    -0.091</td>\n",
       "</tr>\n",
       "</table>\n",
       "<table class=\"simpletable\">\n",
       "<tr>\n",
       "  <th>Omnibus:</th>       <td>37.797</td> <th>  Durbin-Watson:     </th> <td>   2.467</td>\n",
       "</tr>\n",
       "<tr>\n",
       "  <th>Prob(Omnibus):</th> <td> 0.000</td> <th>  Jarque-Bera (JB):  </th> <td>  94.047</td>\n",
       "</tr>\n",
       "<tr>\n",
       "  <th>Skew:</th>          <td> 1.709</td> <th>  Prob(JB):          </th> <td>3.78e-21</td>\n",
       "</tr>\n",
       "<tr>\n",
       "  <th>Kurtosis:</th>      <td> 7.337</td> <th>  Cond. No.          </th> <td>1.76e+08</td>\n",
       "</tr>\n",
       "</table>"
      ],
      "text/plain": [
       "<class 'statsmodels.iolib.summary.Summary'>\n",
       "\"\"\"\n",
       "                            OLS Regression Results                            \n",
       "==============================================================================\n",
       "Dep. Variable:                    mpg   R-squared:                       0.691\n",
       "Model:                            OLS   Adj. R-squared:                  0.678\n",
       "Method:                 Least Squares   F-statistic:                     52.25\n",
       "Date:                Sat, 25 Jul 2015   Prob (F-statistic):           7.68e-18\n",
       "Time:                        21:43:49   Log-Likelihood:                -190.91\n",
       "No. Observations:                  74   AIC:                             389.8\n",
       "Df Residuals:                      70   BIC:                             399.0\n",
       "Df Model:                           3                                         \n",
       "Covariance Type:            nonrobust                                         \n",
       "==============================================================================\n",
       "                 coef    std err          t      P>|t|      [95.0% Conf. Int.]\n",
       "------------------------------------------------------------------------------\n",
       "const         56.5388      6.197      9.123      0.000        44.179    68.899\n",
       "weight        -0.0166      0.004     -4.175      0.000        -0.024    -0.009\n",
       "wtsq        1.591e-06   6.25e-07      2.546      0.013      3.45e-07  2.84e-06\n",
       "is_foreign    -2.2035      1.059     -2.080      0.041        -4.316    -0.091\n",
       "==============================================================================\n",
       "Omnibus:                       37.797   Durbin-Watson:                   2.467\n",
       "Prob(Omnibus):                  0.000   Jarque-Bera (JB):               94.047\n",
       "Skew:                           1.709   Prob(JB):                     3.78e-21\n",
       "Kurtosis:                       7.337   Cond. No.                     1.76e+08\n",
       "==============================================================================\n",
       "\n",
       "Warnings:\n",
       "[1] Standard Errors assume that the covariance matrix of the errors is correctly specified.\n",
       "[2] The condition number is large, 1.76e+08. This might indicate that there are\n",
       "strong multicollinearity or other numerical problems.\n",
       "\"\"\""
      ]
     },
     "execution_count": 104,
     "metadata": {},
     "output_type": "execute_result"
    }
   ],
   "source": [
    "res.summary()"
   ]
  },
  {
   "cell_type": "markdown",
   "metadata": {
    "slideshow": {
     "slide_type": "slide"
    }
   },
   "source": [
    "## Stata Commands from Python"
   ]
  },
  {
   "cell_type": "markdown",
   "metadata": {
    "slideshow": {
     "slide_type": "fragment"
    }
   },
   "source": [
    "* Use the Stata command line\n",
    "* Python's `subprocess` module runs each instance of Stata\n",
    "* Each instance is a Python object\n",
    "* Can send it commands with the `write()` method"
   ]
  },
  {
   "cell_type": "code",
   "execution_count": 105,
   "metadata": {
    "collapsed": false,
    "slideshow": {
     "slide_type": "slide"
    }
   },
   "outputs": [
    {
     "name": "stdout",
     "output_type": "stream",
     "text": [
      "\n",
      "  ___  ____  ____  ____  ____ (R)\n",
      " /__    /   ____/   /   ____/\n",
      "___/   /   /___/   /   /___/   13.1   Copyright 1985-2013 StataCorp LP\n",
      "  Statistics/Data Analysis            StataCorp\n",
      "                                      4905 Lakeway Drive\n",
      "     MP - Parallel Edition            College Station, Texas 77845 USA\n",
      "                                      800-STATA-PC        http://www.stata.com\n",
      "                                      979-696-4600        stata@stata.com\n",
      "                                      979-696-4601 (fax)\n",
      "\n",
      "2-user 2-core Stata network perpetual license:\n",
      "       Serial number:  501306211345\n",
      "         Licensed to:  Stephen Childs\n",
      "                       Education Policy Research Initiative\n",
      "\n",
      "Notes:\n",
      "      1.  (-v# option or -set maxvar-) 5000 maximum variables\n",
      "      2.  Command line editing disabled\n",
      "      3.  Stata running in batch mode\n",
      "\n",
      "running /Users/sechilds/Library/Application Support/Stata/profile.do ...\n",
      "\n",
      ". "
     ]
    }
   ],
   "source": [
    "stata = Stpy()"
   ]
  },
  {
   "cell_type": "code",
   "execution_count": 106,
   "metadata": {
    "collapsed": false,
    "slideshow": {
     "slide_type": "fragment"
    }
   },
   "outputs": [
    {
     "name": "stdout",
     "output_type": "stream",
     "text": [
      "sysuse auto\n",
      "(1978 Automobile Data)\n",
      "\n",
      ". "
     ]
    }
   ],
   "source": [
    "stata.write('sysuse auto')"
   ]
  },
  {
   "cell_type": "code",
   "execution_count": 107,
   "metadata": {
    "collapsed": false,
    "slideshow": {
     "slide_type": "subslide"
    }
   },
   "outputs": [
    {
     "name": "stdout",
     "output_type": "stream",
     "text": [
      "describe\n",
      "\n",
      "Contains data from /Applications/Stata/ado/base/a/auto.dta\n",
      "  obs:            74                          1978 Automobile Data\n",
      " vars:            12                          13 Apr 2013 17:45\n",
      " size:         3,182                          (_dta has notes)\n",
      "-------------------------------------------------------------------------------\n",
      "              storage   display    value\n",
      "variable name   type    format     label      variable label\n",
      "-------------------------------------------------------------------------------\n",
      "make            str18   %-18s                 Make and Model\n",
      "price           int     %8.0gc                Price\n",
      "mpg             int     %8.0g                 Mileage (mpg)\n",
      "rep78           int     %8.0g                 Repair Record 1978\n",
      "headroom        float   %6.1f                 Headroom (in.)\n",
      "trunk           int     %8.0g                 Trunk space (cu. ft.)\n",
      "weight          int     %8.0gc                Weight (lbs.)\n",
      "length          int     %8.0g                 Length (in.)\n",
      "turn            int     %8.0g                 Turn Circle (ft.)\n",
      "displacement    int     %8.0g                 Displacement (cu. in.)\n",
      "gear_ratio      float   %6.2f                 Gear Ratio\n",
      "foreign         byte    %8.0g      origin     Car type\n",
      "-------------------------------------------------------------------------------\n",
      "Sorted by:  foreign\n",
      "\n",
      ". "
     ]
    }
   ],
   "source": [
    "stata.write('describe')"
   ]
  },
  {
   "cell_type": "markdown",
   "metadata": {
    "slideshow": {
     "slide_type": "slide"
    }
   },
   "source": [
    "Python strings have a `format()` method that allows you to substitute the contents of Python variables."
   ]
  },
  {
   "cell_type": "code",
   "execution_count": 108,
   "metadata": {
    "collapsed": true,
    "slideshow": {
     "slide_type": "fragment"
    }
   },
   "outputs": [],
   "source": [
    "depvar = 'mpg'\n",
    "indepvars = ['weight', 'wtsq', 'foreign']"
   ]
  },
  {
   "cell_type": "code",
   "execution_count": 109,
   "metadata": {
    "collapsed": false,
    "slideshow": {
     "slide_type": "fragment"
    }
   },
   "outputs": [
    {
     "data": {
      "text/plain": [
       "'regress mpg weight wtsq foreign'"
      ]
     },
     "execution_count": 109,
     "metadata": {},
     "output_type": "execute_result"
    }
   ],
   "source": [
    "'regress {depvar} {indepvars}'.format(depvar=depvar,\n",
    "                                      indepvars=' '.join(indepvars))"
   ]
  },
  {
   "cell_type": "markdown",
   "metadata": {
    "slideshow": {
     "slide_type": "slide"
    }
   },
   "source": [
    "## Python Language Features"
   ]
  },
  {
   "cell_type": "code",
   "execution_count": 110,
   "metadata": {
    "collapsed": false,
    "slideshow": {
     "slide_type": "fragment"
    }
   },
   "outputs": [
    {
     "data": {
      "text/plain": [
       "('Stata', 'Stephen Childs')"
      ]
     },
     "execution_count": 110,
     "metadata": {},
     "output_type": "execute_result"
    }
   ],
   "source": [
    "software = ['Stata', 'Python'] # list\n",
    "person = {'name': 'Stephen Childs',\n",
    "          'employer': 'University of Calgary',\n",
    "          'city': 'Calgary',\n",
    "          'province': 'Alberta'} #dictionary\n",
    "software[0], person['name']"
   ]
  },
  {
   "cell_type": "markdown",
   "metadata": {
    "slideshow": {
     "slide_type": "notes"
    }
   },
   "source": [
    "Python has some very useful and powerful language features. A good starting point is to look at some of the data structures built into the language. You can think of a Python list as a Stata macro list. In Python, lists can contain any type of object and can even contain different types in the same list. Lists are _ordered_.\n",
    "\n",
    "Dictionaries are a very powerful data type. It lets you define a set of **keys** and related **values**. This is a very powerful and flexible data structure. The values are _unordered_."
   ]
  },
  {
   "cell_type": "code",
   "execution_count": 111,
   "metadata": {
    "collapsed": false,
    "slideshow": {
     "slide_type": "fragment"
    }
   },
   "outputs": [
    {
     "name": "stdout",
     "output_type": "stream",
     "text": [
      "Hello world!\n"
     ]
    }
   ],
   "source": [
    "def say_hello():\n",
    "    print('Hello world!')\n",
    "\n",
    "say_hello()    "
   ]
  },
  {
   "cell_type": "code",
   "execution_count": 112,
   "metadata": {
    "collapsed": false,
    "slideshow": {
     "slide_type": "fragment"
    }
   },
   "outputs": [
    {
     "data": {
      "text/plain": [
       "4"
      ]
     },
     "execution_count": 112,
     "metadata": {},
     "output_type": "execute_result"
    }
   ],
   "source": [
    "def double(x):\n",
    "    return x*2\n",
    "\n",
    "double(2)"
   ]
  },
  {
   "cell_type": "code",
   "execution_count": 113,
   "metadata": {
    "collapsed": false,
    "slideshow": {
     "slide_type": "fragment"
    }
   },
   "outputs": [
    {
     "data": {
      "text/plain": [
       "64"
      ]
     },
     "execution_count": 113,
     "metadata": {},
     "output_type": "execute_result"
    }
   ],
   "source": [
    "(lambda x: x**2)(8)"
   ]
  },
  {
   "cell_type": "code",
   "execution_count": 114,
   "metadata": {
    "collapsed": false,
    "slideshow": {
     "slide_type": "subslide"
    }
   },
   "outputs": [
    {
     "data": {
      "text/plain": [
       "0    0\n",
       "1    1\n",
       "2    2\n",
       "3    3\n",
       "4    4\n",
       "5    5\n",
       "6    6\n",
       "7    7\n",
       "dtype: int64"
      ]
     },
     "execution_count": 114,
     "metadata": {},
     "output_type": "execute_result"
    }
   ],
   "source": [
    "a = pd.Series(range(8))\n",
    "a"
   ]
  },
  {
   "cell_type": "code",
   "execution_count": 115,
   "metadata": {
    "collapsed": false,
    "slideshow": {
     "slide_type": "fragment"
    }
   },
   "outputs": [
    {
     "data": {
      "text/plain": [
       "0     0\n",
       "1     1\n",
       "2     4\n",
       "3     9\n",
       "4    16\n",
       "5    25\n",
       "6    36\n",
       "7    49\n",
       "dtype: int64"
      ]
     },
     "execution_count": 115,
     "metadata": {},
     "output_type": "execute_result"
    }
   ],
   "source": [
    "a.apply(lambda x: x**2)"
   ]
  },
  {
   "cell_type": "markdown",
   "metadata": {
    "slideshow": {
     "slide_type": "slide"
    }
   },
   "source": [
    "### Glossary\n",
    "\n",
    "<table>\n",
    "    <tr>\n",
    "        <th>Stata</th>\n",
    "        <th>Python</th>\n",
    "    </tr>\n",
    "    <tr>\n",
    "        <td>macro</td>\n",
    "        <td>variable</td>\n",
    "    </tr>\n",
    "    <tr>\n",
    "        <td>macro list</td>\n",
    "        <td>list</td>\n",
    "    </tr>\n",
    "    <tr>\n",
    "        <td>variable</td>\n",
    "        <td><code>pd.Series</code> or a column of a <code>pd.DataFrame</code></td>\n",
    "    </tr>\n",
    "        <tr>\n",
    "        <td>data</td>\n",
    "        <td><code>pd.DataFrame</code></td>\n",
    "    </tr>\n",
    "    <tr>\n",
    "        <td><code>.dta</code> file</td>\n",
    "        <td><ul>\n",
    "            <li><a href=\"https://docs.python.org/3/library/pickle.html\">Pickle</a> (though <a href=\"https://www.youtube.com/watch?v=7KnfGDajDQw\">be careful!</a>)</li>\n",
    "            <li><code>csv</code></li>\n",
    "            <li><a href=\"https://www.hdfgroup.org/HDF5/\">HDF5</a> (<a href=\"www.h5py.org\">Python package</a>)</li>\n",
    "            <li>etc&hellip;</li\n",
    "        </ul></td>\n",
    "    </tr>\n",
    "        <tr>\n",
    "        <td><code>ssc</code></td>\n",
    "        <td><code>pip</code></td>\n",
    "    </tr>\n",
    "    <tr>\n",
    "        <td><a href=\"https://ideas.repec.org/s/boc/bocode.html\">Boston College Statistical Software Components (SSC) archive</a></td>\n",
    "        <td><a href=\"https://pypi.python.org/pypi\">PyPI - the Python Package Index</a> (<a href=\"https://www.youtube.com/watch?v=PPN3KTtrnZM\">\"The Cheeseshop\"</a>)</td>\n",
    "    </tr>\n",
    "    <tr>\n",
    "        <td><code>program</code></td>\n",
    "        <td>function</td>\n",
    "    </tr>\n",
    "    <tr>\n",
    "        <td><code>do</code> file</td>\n",
    "        <td>module (<code>.py</code> file)</td>\n",
    "    </tr>\n",
    "    <tr>\n",
    "        <td><code>ado</code> file</td>\n",
    "        <td>package</td>\n",
    "</table>"
   ]
  },
  {
   "cell_type": "markdown",
   "metadata": {
    "slideshow": {
     "slide_type": "slide"
    }
   },
   "source": [
    "## Workflows"
   ]
  },
  {
   "cell_type": "markdown",
   "metadata": {
    "slideshow": {
     "slide_type": "slide"
    }
   },
   "source": [
    "### ETL/Data Cleaning"
   ]
  },
  {
   "cell_type": "markdown",
   "metadata": {
    "slideshow": {
     "slide_type": "fragment"
    }
   },
   "source": [
    "* **advantages:**\n",
    "    * wide variety of tools already available\n",
    "    * create new data cleaning functions\n",
    "* use pandas to prepare the data\n",
    "    * organize code in separate files\n",
    "    * move data into Stata when analysis file is ready"
   ]
  },
  {
   "cell_type": "code",
   "execution_count": null,
   "metadata": {
    "collapsed": false,
    "slideshow": {
     "slide_type": "slide"
    }
   },
   "outputs": [],
   "source": [
    "\"\"\"Recode the PSIS Gender variable.\n",
    "\n",
    "Input\n",
    "-----\n",
    "sd.raw.Gender.pd\n",
    "\n",
    "Output\n",
    "------\n",
    "sd.Gender.pd\n",
    "\n",
    "\"\"\"\n",
    "\n",
    "import epandas as pd\n",
    "import numpy as np\n",
    "\n",
    "from eppdoc import eppdoc\n",
    "\n",
    "# Load series.\n",
    "d = eppdoc(__doc__)\n",
    "s = d.read()\n",
    "\n",
    "# Change to full labels.\n",
    "s = s.replace({'F': 'Female', 'M': 'Male', np.nan: 'N/A'})\n",
    "\n",
    "# Categorize and Order\n",
    "s = s.astype('category')\n",
    "s = s.cat.reorder_categories(['Female', 'Male', 'N/A'])\n",
    "\n",
    "# Pickle.\n",
    "d.writes(s)"
   ]
  },
  {
   "cell_type": "markdown",
   "metadata": {
    "slideshow": {
     "slide_type": "notes"
    }
   },
   "source": [
    "e.g. You have a data source - a set of files - it is easy to write a Python sccript to turn that set of files into your analysis files."
   ]
  },
  {
   "cell_type": "markdown",
   "metadata": {
    "slideshow": {
     "slide_type": "slide"
    }
   },
   "source": [
    "### Stata Code Generation"
   ]
  },
  {
   "cell_type": "markdown",
   "metadata": {
    "slideshow": {
     "slide_type": "notes"
    }
   },
   "source": [
    "* a less \"fiddly\" replacement for macros (see the `format` method above)\n",
    "* deal with repitition and patterns"
   ]
  },
  {
   "cell_type": "code",
   "execution_count": 116,
   "metadata": {
    "collapsed": true,
    "slideshow": {
     "slide_type": "fragment"
    }
   },
   "outputs": [],
   "source": [
    "vars = ['mpg', 'rep78', 'headroom', 'trunk', 'weight',\n",
    "        'length', 'turn', 'displacement',\n",
    "        'gear_ratio', 'i.foreign']"
   ]
  },
  {
   "cell_type": "code",
   "execution_count": 117,
   "metadata": {
    "collapsed": true,
    "slideshow": {
     "slide_type": "fragment"
    }
   },
   "outputs": [],
   "source": [
    "from itertools import combinations"
   ]
  },
  {
   "cell_type": "code",
   "execution_count": 118,
   "metadata": {
    "collapsed": false,
    "slideshow": {
     "slide_type": "fragment"
    }
   },
   "outputs": [
    {
     "name": "stdout",
     "output_type": "stream",
     "text": [
      "regress price mpg rep78\n",
      "regress price mpg headroom\n",
      "regress price mpg trunk\n",
      "regress price mpg weight\n",
      "regress price mpg length\n",
      "regress price mpg turn\n",
      "regress price mpg displacement\n",
      "regress price mpg gear_ratio\n",
      "regress price mpg i.foreign\n",
      "regress price rep78 headroom\n",
      "regress price rep78 trunk\n",
      "regress price rep78 weight\n",
      "regress price rep78 length\n",
      "regress price rep78 turn\n",
      "regress price rep78 displacement\n",
      "regress price rep78 gear_ratio\n",
      "regress price rep78 i.foreign\n",
      "regress price headroom trunk\n",
      "regress price headroom weight\n",
      "regress price headroom length\n",
      "regress price headroom turn\n",
      "regress price headroom displacement\n",
      "regress price headroom gear_ratio\n",
      "regress price headroom i.foreign\n",
      "regress price trunk weight\n",
      "regress price trunk length\n",
      "regress price trunk turn\n",
      "regress price trunk displacement\n",
      "regress price trunk gear_ratio\n",
      "regress price trunk i.foreign\n",
      "regress price weight length\n",
      "regress price weight turn\n",
      "regress price weight displacement\n",
      "regress price weight gear_ratio\n",
      "regress price weight i.foreign\n",
      "regress price length turn\n",
      "regress price length displacement\n",
      "regress price length gear_ratio\n",
      "regress price length i.foreign\n",
      "regress price turn displacement\n",
      "regress price turn gear_ratio\n",
      "regress price turn i.foreign\n",
      "regress price displacement gear_ratio\n",
      "regress price displacement i.foreign\n",
      "regress price gear_ratio i.foreign\n"
     ]
    }
   ],
   "source": [
    "for x in combinations(vars, 2):\n",
    "    print('regress price {vars}'.format(vars=' '.join(x)))"
   ]
  },
  {
   "cell_type": "markdown",
   "metadata": {
    "slideshow": {
     "slide_type": "slide"
    }
   },
   "source": [
    "### Processing Stata Output"
   ]
  },
  {
   "cell_type": "code",
   "execution_count": null,
   "metadata": {
    "collapsed": false,
    "slideshow": {
     "slide_type": "subslide"
    }
   },
   "outputs": [],
   "source": [
    "import pandas as pd\n",
    "import numpy as np\n",
    "from epstata import Stpy\n",
    "import predict_models\n",
    "\n",
    "def predict_test(a, filename, model, key, iteration, results):\n",
    "    a.write('use \"{filename}\", clear'.format(filename=filename))\n",
    "    a.write('generate phat = .')\n",
    "    tmp1 = NamedTemporaryFile(suffix='.dta')\n",
    "    a.write('save {name}, replace'.format(name=tmp1.name))\n",
    "    a.write('capture drop phat')\n",
    "    a.write('set seed {iteration}'.format(iteration=iteration))\n",
    "    a.write('generate cut = runiform()')\n",
    "    a.write('logit Leaver {model} if cut < .5, iterate(200)'.format(\n",
    "            model=model))\n",
    "    a.write('predict phat if cut >= .5')\n",
    "    a.write('keep if cut >= .5')\n",
    "    a.write('keep ID Leaver phat')\n",
    "    a.write('save {name}, replace'.format(name=tmp1.name))\n",
    "    df = pd.read_stata(tmp1.name)\n",
    "    df.set_index(df['ID'], inplace=True)\n",
    "                df['Log Loss'] = -1 * (df['Leaver']*np.log(df['phat'])\n",
    "            + (1-df['Leaver'])*np.log(1-df['phat']))\n",
    "    results.write('{key} {iteration}: Log Loss: {logl}\\n'.format(\n",
    "            key=key,\n",
    "            iteration=iteration,\n",
    "            logl=df['Log Loss'].mean()))\n",
    "    return df['Log Loss']"
   ]
  },
  {
   "cell_type": "markdown",
   "metadata": {
    "slideshow": {
     "slide_type": "slide"
    }
   },
   "source": [
    "# Conclusion"
   ]
  },
  {
   "cell_type": "markdown",
   "metadata": {
    "slideshow": {
     "slide_type": "fragment"
    }
   },
   "source": [
    "* only an introduction to Python meant to whet your appitite\n",
    "* show some possibilites\n",
    "* Stata/Python integration is still a work in progress\n",
    "* allow you to mix and match - replace part of your workflow with Python"
   ]
  },
  {
   "cell_type": "code",
   "execution_count": 119,
   "metadata": {
    "collapsed": false,
    "slideshow": {
     "slide_type": "slide"
    }
   },
   "outputs": [
    {
     "name": "stdout",
     "output_type": "stream",
     "text": [
      "The Zen of Python, by Tim Peters\n",
      "\n",
      "Beautiful is better than ugly.\n",
      "Explicit is better than implicit.\n",
      "Simple is better than complex.\n",
      "Complex is better than complicated.\n",
      "Flat is better than nested.\n",
      "Sparse is better than dense.\n",
      "Readability counts.\n",
      "Special cases aren't special enough to break the rules.\n",
      "Although practicality beats purity.\n",
      "Errors should never pass silently.\n",
      "Unless explicitly silenced.\n",
      "In the face of ambiguity, refuse the temptation to guess.\n",
      "There should be one-- and preferably only one --obvious way to do it.\n",
      "Although that way may not be obvious at first unless you're Dutch.\n",
      "Now is better than never.\n",
      "Although never is often better than *right* now.\n",
      "If the implementation is hard to explain, it's a bad idea.\n",
      "If the implementation is easy to explain, it may be a good idea.\n",
      "Namespaces are one honking great idea -- let's do more of those!\n"
     ]
    }
   ],
   "source": [
    "import this"
   ]
  },
  {
   "cell_type": "code",
   "execution_count": 120,
   "metadata": {
    "collapsed": false,
    "slideshow": {
     "slide_type": "slide"
    }
   },
   "outputs": [
    {
     "data": {
      "text/html": [
       "\n",
       "        <iframe\n",
       "            width=\"1000\"\n",
       "            height=\"400\"\n",
       "            src=\"http://www.pyohio.org/\"\n",
       "            frameborder=\"0\"\n",
       "            allowfullscreen\n",
       "        ></iframe>\n",
       "        "
      ],
      "text/plain": [
       "<IPython.lib.display.IFrame at 0x10faa7d30>"
      ]
     },
     "execution_count": 120,
     "metadata": {},
     "output_type": "execute_result"
    }
   ],
   "source": [
    "IFrame(src='http://www.pyohio.org/', width=1000, height=400)"
   ]
  },
  {
   "cell_type": "markdown",
   "metadata": {},
   "source": [
    "##Resources"
   ]
  },
  {
   "cell_type": "markdown",
   "metadata": {},
   "source": [
    "* Brandon Rhodes [pandas tutorial](https://github.com/brandon-rhodes/pycon-pandas-tutorial) - PyCon Montréal 2015"
   ]
  },
  {
   "cell_type": "markdown",
   "metadata": {},
   "source": [
    "## Contact"
   ]
  },
  {
   "cell_type": "markdown",
   "metadata": {
    "slideshow": {
     "slide_type": "slide"
    }
   },
   "source": [
    "* The notebook will be up on github: [sechilds](https://github.com/sechilds)\n",
    "* Twitter: [@sechilds](https://twitter.com/sechilds)\n",
    "* E-mail: [Stephen.Childs@ucalgary.ca](mailto:Stephen.Childs@uCalgary.ca)"
   ]
  }
 ],
 "metadata": {
  "kernelspec": {
   "display_name": "Python 3",
   "language": "python",
   "name": "python3"
  },
  "language_info": {
   "codemirror_mode": {
    "name": "ipython",
    "version": 3
   },
   "file_extension": ".py",
   "mimetype": "text/x-python",
   "name": "python",
   "nbconvert_exporter": "python",
   "pygments_lexer": "ipython3",
   "version": "3.4.2"
  }
 },
 "nbformat": 4,
 "nbformat_minor": 0
}
